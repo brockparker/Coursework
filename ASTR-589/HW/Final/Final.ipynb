{
 "cells": [
  {
   "cell_type": "code",
   "execution_count": 3,
   "id": "752dde0e-5325-409a-a391-07d72bebf397",
   "metadata": {
    "tags": []
   },
   "outputs": [],
   "source": [
    "import numpy as np\n",
    "import astropy.units as u\n",
    "import astropy.constants as c"
   ]
  },
  {
   "cell_type": "markdown",
   "id": "0a006d55-f592-4c8c-bd73-b0eb394eb4a7",
   "metadata": {},
   "source": [
    "### Problem 1"
   ]
  },
  {
   "cell_type": "code",
   "execution_count": 4,
   "id": "64bf9d6f-0944-41a0-b41a-b39af8d011e3",
   "metadata": {
    "tags": []
   },
   "outputs": [
    {
     "data": {
      "text/latex": [
       "$6.6743 \\times 10^{-11} \\; \\mathrm{\\frac{m^{3}}{kg\\,s^{2}}}$"
      ],
      "text/plain": [
       "<<class 'astropy.constants.codata2018.CODATA2018'> name='Gravitational constant' value=6.6743e-11 uncertainty=1.5e-15 unit='m3 / (kg s2)' reference='CODATA 2018'>"
      ]
     },
     "execution_count": 4,
     "metadata": {},
     "output_type": "execute_result"
    }
   ],
   "source": [
    "c.G.si"
   ]
  },
  {
   "cell_type": "code",
   "execution_count": 5,
   "id": "23cf2e4b-112a-4f6b-aca2-331a5bc2de91",
   "metadata": {
    "tags": []
   },
   "outputs": [
    {
     "data": {
      "text/latex": [
       "$3.0856776 \\times 10^{20} \\; \\mathrm{m}$"
      ],
      "text/plain": [
       "<Quantity 3.08567758e+20 m>"
      ]
     },
     "execution_count": 5,
     "metadata": {},
     "output_type": "execute_result"
    }
   ],
   "source": [
    "(10*u.kpc).to(u.m)"
   ]
  },
  {
   "cell_type": "code",
   "execution_count": 6,
   "id": "d1e4ee2b-a041-4136-a8f5-5cdaf85d6c48",
   "metadata": {
    "tags": []
   },
   "outputs": [
    {
     "data": {
      "text/latex": [
       "$1 \\times 10^{10} \\; \\mathrm{\\frac{m^{2}}{s^{2}}}$"
      ],
      "text/plain": [
       "<Quantity 1.e+10 m2 / s2>"
      ]
     },
     "execution_count": 6,
     "metadata": {},
     "output_type": "execute_result"
    }
   ],
   "source": [
    "((100*u.km/u.s)**2).si"
   ]
  },
  {
   "cell_type": "code",
   "execution_count": 7,
   "id": "84cc8d26-d180-46bb-bba7-f654f509f16d",
   "metadata": {
    "tags": []
   },
   "outputs": [
    {
     "data": {
      "text/latex": [
       "$2.3284938 \\times 10^{10} \\; \\mathrm{M_{\\odot}}$"
      ],
      "text/plain": [
       "<Quantity 2.32849377e+10 solMass>"
      ]
     },
     "execution_count": 7,
     "metadata": {},
     "output_type": "execute_result"
    }
   ],
   "source": [
    "(4.63e40*u.kg).to(u.Msun)"
   ]
  },
  {
   "cell_type": "code",
   "execution_count": 8,
   "id": "d853877c-3da1-4a88-9275-4dd70dfbc1e2",
   "metadata": {
    "tags": []
   },
   "outputs": [
    {
     "data": {
      "text/latex": [
       "$2.3250854 \\times 10^{10} \\; \\mathrm{M_{\\odot}}$"
      ],
      "text/plain": [
       "<Quantity 2.32508541e+10 solMass>"
      ]
     },
     "execution_count": 8,
     "metadata": {},
     "output_type": "execute_result"
    }
   ],
   "source": [
    "R = 10*u.kpc\n",
    "v = 100*u.km/u.s\n",
    "M = R * v**2 / c.G\n",
    "M.to(u.Msun)"
   ]
  },
  {
   "cell_type": "markdown",
   "id": "ec7276e8-c9ed-4e97-b0df-936f03bd12a3",
   "metadata": {},
   "source": [
    "### Problem 5\n",
    "\n",
    "$$\\frac{\\ln2 \\sigma_T c}{48 \\pi G m_p} $$"
   ]
  },
  {
   "cell_type": "code",
   "execution_count": 9,
   "id": "d08d56a3-74fe-4cf5-8d6c-362a50a53289",
   "metadata": {},
   "outputs": [],
   "source": [
    "tau_dub = np.log(2) * c.sigma_T * c.c / (48 * np.pi * c.G * c.m_p)"
   ]
  },
  {
   "cell_type": "code",
   "execution_count": 14,
   "id": "7c4a022c-517d-4814-a33e-9d6dcc8638d5",
   "metadata": {},
   "outputs": [
    {
     "name": "stdout",
     "output_type": "stream",
     "text": [
      "26.02134659223361 Myr\n"
     ]
    }
   ],
   "source": [
    "print(tau_dub.to(u.Myr))"
   ]
  },
  {
   "cell_type": "markdown",
   "id": "d2b00885-ee01-45d9-9743-11fdf0d72cc7",
   "metadata": {},
   "source": [
    "$$10^9~M_\\odot  e^{-\\frac{48 \\pi G m_p}{\\sigma_T c}\\cdot800~Myr}$$"
   ]
  },
  {
   "cell_type": "code",
   "execution_count": 16,
   "id": "9457bc6f-9a46-4faa-b620-8a32d3bb82f5",
   "metadata": {},
   "outputs": [],
   "source": [
    "m_0 = 10**9*c.M_sun * np.exp(-48 * np.pi * c.G * c.m_p / (c.sigma_T * c.c) * 800*u.Myr)"
   ]
  },
  {
   "cell_type": "code",
   "execution_count": 18,
   "id": "2d5a26b5-1cda-471f-bf6d-3d431c8eee9a",
   "metadata": {},
   "outputs": [
    {
     "name": "stdout",
     "output_type": "stream",
     "text": [
      "0.5560797090185182 solMass\n"
     ]
    }
   ],
   "source": [
    "print(m_0.to(u.M_sun))"
   ]
  },
  {
   "cell_type": "code",
   "execution_count": 19,
   "id": "77085f55-e5a7-45a2-a5a3-49a141bff756",
   "metadata": {},
   "outputs": [],
   "source": [
    "m_0_real = 10**9*c.M_sun * np.exp(-48 * np.pi * c.G * c.m_p / (c.sigma_T * c.c) * 650*u.Myr)"
   ]
  },
  {
   "cell_type": "code",
   "execution_count": 20,
   "id": "b3022bfc-b790-45c9-8cbf-b439b6739902",
   "metadata": {},
   "outputs": [
    {
     "name": "stdout",
     "output_type": "stream",
     "text": [
      "30.229004948998174 solMass\n"
     ]
    }
   ],
   "source": [
    "print(m_0_real.to(u.M_sun))"
   ]
  },
  {
   "cell_type": "code",
   "execution_count": null,
   "id": "226a2fe8-9601-421f-995f-9377296ddfc2",
   "metadata": {},
   "outputs": [],
   "source": []
  }
 ],
 "metadata": {
  "kernelspec": {
   "display_name": "Python 3 (ipykernel)",
   "language": "python",
   "name": "python3"
  },
  "language_info": {
   "codemirror_mode": {
    "name": "ipython",
    "version": 3
   },
   "file_extension": ".py",
   "mimetype": "text/x-python",
   "name": "python",
   "nbconvert_exporter": "python",
   "pygments_lexer": "ipython3",
   "version": "3.9.12"
  }
 },
 "nbformat": 4,
 "nbformat_minor": 5
}
