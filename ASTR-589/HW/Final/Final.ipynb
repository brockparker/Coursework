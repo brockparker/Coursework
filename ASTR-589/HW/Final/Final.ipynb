{
 "cells": [
  {
   "cell_type": "code",
   "execution_count": 1,
   "id": "752dde0e-5325-409a-a391-07d72bebf397",
   "metadata": {
    "tags": []
   },
   "outputs": [],
   "source": [
    "import numpy as np\n",
    "import astropy.units as u\n",
    "import astropy.constants as c"
   ]
  },
  {
   "cell_type": "code",
   "execution_count": 2,
   "id": "64bf9d6f-0944-41a0-b41a-b39af8d011e3",
   "metadata": {
    "tags": []
   },
   "outputs": [
    {
     "data": {
      "text/latex": [
       "$6.6743 \\times 10^{-11} \\; \\mathrm{\\frac{m^{3}}{kg\\,s^{2}}}$"
      ],
      "text/plain": [
       "<<class 'astropy.constants.codata2018.CODATA2018'> name='Gravitational constant' value=6.6743e-11 uncertainty=1.5e-15 unit='m3 / (kg s2)' reference='CODATA 2018'>"
      ]
     },
     "execution_count": 2,
     "metadata": {},
     "output_type": "execute_result"
    }
   ],
   "source": [
    "c.G.si"
   ]
  },
  {
   "cell_type": "code",
   "execution_count": 4,
   "id": "23cf2e4b-112a-4f6b-aca2-331a5bc2de91",
   "metadata": {
    "tags": []
   },
   "outputs": [
    {
     "data": {
      "text/latex": [
       "$3.0856776 \\times 10^{20} \\; \\mathrm{m}$"
      ],
      "text/plain": [
       "<Quantity 3.08567758e+20 m>"
      ]
     },
     "execution_count": 4,
     "metadata": {},
     "output_type": "execute_result"
    }
   ],
   "source": [
    "(10*u.kpc).to(u.m)"
   ]
  },
  {
   "cell_type": "code",
   "execution_count": 5,
   "id": "d1e4ee2b-a041-4136-a8f5-5cdaf85d6c48",
   "metadata": {
    "tags": []
   },
   "outputs": [
    {
     "data": {
      "text/latex": [
       "$1 \\times 10^{10} \\; \\mathrm{\\frac{m^{2}}{s^{2}}}$"
      ],
      "text/plain": [
       "<Quantity 1.e+10 m2 / s2>"
      ]
     },
     "execution_count": 5,
     "metadata": {},
     "output_type": "execute_result"
    }
   ],
   "source": [
    "((100*u.km/u.s)**2).si"
   ]
  },
  {
   "cell_type": "code",
   "execution_count": 7,
   "id": "84cc8d26-d180-46bb-bba7-f654f509f16d",
   "metadata": {
    "tags": []
   },
   "outputs": [
    {
     "data": {
      "text/latex": [
       "$2.3284938 \\times 10^{10} \\; \\mathrm{M_{\\odot}}$"
      ],
      "text/plain": [
       "<Quantity 2.32849377e+10 solMass>"
      ]
     },
     "execution_count": 7,
     "metadata": {},
     "output_type": "execute_result"
    }
   ],
   "source": [
    "(4.63e40*u.kg).to(u.Msun)"
   ]
  },
  {
   "cell_type": "code",
   "execution_count": 8,
   "id": "d853877c-3da1-4a88-9275-4dd70dfbc1e2",
   "metadata": {
    "tags": []
   },
   "outputs": [
    {
     "data": {
      "text/latex": [
       "$2.3250854 \\times 10^{10} \\; \\mathrm{M_{\\odot}}$"
      ],
      "text/plain": [
       "<Quantity 2.32508541e+10 solMass>"
      ]
     },
     "execution_count": 8,
     "metadata": {},
     "output_type": "execute_result"
    }
   ],
   "source": [
    "R = 10*u.kpc\n",
    "v = 100*u.km/u.s\n",
    "M = R * v**2 / c.G\n",
    "M.to(u.Msun)"
   ]
  },
  {
   "cell_type": "code",
   "execution_count": null,
   "id": "e0f2cd8c-24bd-4fb0-add9-e9dfaff886d6",
   "metadata": {},
   "outputs": [],
   "source": []
  }
 ],
 "metadata": {
  "kernelspec": {
   "display_name": "Python 3 (ipykernel)",
   "language": "python",
   "name": "python3"
  },
  "language_info": {
   "codemirror_mode": {
    "name": "ipython",
    "version": 3
   },
   "file_extension": ".py",
   "mimetype": "text/x-python",
   "name": "python",
   "nbconvert_exporter": "python",
   "pygments_lexer": "ipython3",
   "version": "3.11.4"
  }
 },
 "nbformat": 4,
 "nbformat_minor": 5
}
