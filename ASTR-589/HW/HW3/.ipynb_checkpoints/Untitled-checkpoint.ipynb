{
 "cells": [
  {
   "cell_type": "markdown",
   "id": "21ef0336-0bcb-42d4-8d8b-2121a21e296b",
   "metadata": {},
   "source": [
    "# ASTR-589 HW3\n",
    "\n",
    "## Question 1\n",
    "\n",
    "### Part A\n",
    "\n",
    "We can define the Saha equation to output the ionization ratio times the electron number density."
   ]
  },
  {
   "cell_type": "code",
   "execution_count": 13,
   "id": "0f996e9f-2249-46e7-aba1-bb8c5cf59aab",
   "metadata": {},
   "outputs": [],
   "source": [
    "import numpy as np\n",
    "import astropy.units as u\n",
    "from astropy.constants import k_B, c, m_e, h\n",
    "import matplotlib.pyplot as plt"
   ]
  },
  {
   "cell_type": "code",
   "execution_count": 2,
   "id": "01bc865c-748e-41e9-b581-a6884e27ac02",
   "metadata": {},
   "outputs": [],
   "source": [
    "def saha_ne(T, chi, g0=2, g1=1):\n",
    "    '''\n",
    "    Saha equation in terms of ionization ratio times electron number density. To convert to ionization fraction divide by electron number density and \n",
    "    '''\n",
    "    power = (2 * np.pi * m_e * k_B * T / h**2 ) ** (3/2)\n",
    "    # BP Calculating the first term of the saha equation.\n",
    "    degen = 2 * g1 / g0\n",
    "    # BP Calculating the second term of the saha equation.\n",
    "    expon = np.exp(-chi / (T * k_B))\n",
    "    # BP Calculating the Boltzmann term of the saha equation.\n",
    "    \n",
    "    return (power * degen * expon).cgs"
   ]
  },
  {
   "cell_type": "markdown",
   "id": "1b6d4ba9-23b6-4ffb-abd0-06294ce54eb9",
   "metadata": {},
   "source": [
    "For our hydrogen, the output is simply"
   ]
  },
  {
   "cell_type": "code",
   "execution_count": 3,
   "id": "52189bb1-11ae-431f-a06f-d0670616be6f",
   "metadata": {},
   "outputs": [
    {
     "name": "stdout",
     "output_type": "stream",
     "text": [
      "The Saha equation for Hydrogen gives 1.990e+27 1 / cm3\n"
     ]
    }
   ],
   "source": [
    "S_H = saha_ne(8.8e7*u.K, 13.54*u.eV, g0=2, g1=1)\n",
    "print('The Saha equation for Hydrogen gives {:.3e}'.format(S_H))"
   ]
  },
  {
   "cell_type": "markdown",
   "id": "c6063487-b9b8-41f4-9f27-e065c2399b59",
   "metadata": {},
   "source": [
    "The same can be done for the two ionization states of Helium."
   ]
  },
  {
   "cell_type": "code",
   "execution_count": 4,
   "id": "3827ab7d-df19-43b3-83fb-b5b2454743b3",
   "metadata": {},
   "outputs": [
    {
     "name": "stdout",
     "output_type": "stream",
     "text": [
      "The Saha equation for the first ionization of Helium gives 7.948e+27 1 / cm3\n",
      "The Saha equation for the second ionization of Helium gives 9.896e+26 1 / cm3\n"
     ]
    }
   ],
   "source": [
    "S_He1 = saha_ne(8.8e7*u.K, 24.48*u.eV, g0=2, g1=4)\n",
    "S_He2 = saha_ne(8.8e7*u.K, 54.17*u.eV, g0=4, g1=1)\n",
    "print('The Saha equation for the first ionization of Helium gives {:.3e}'.format(S_He1))\n",
    "print('The Saha equation for the second ionization of Helium gives {:.3e}'.format(S_He2))"
   ]
  },
  {
   "cell_type": "code",
   "execution_count": 5,
   "id": "2175e144-902f-4d55-bb59-8b9700ecbb8b",
   "metadata": {},
   "outputs": [
    {
     "name": "stdout",
     "output_type": "stream",
     "text": [
      "The combination of the two gives 7.865e+54 1 / cm6\n"
     ]
    }
   ],
   "source": [
    "print('The combination of the two gives {:.3e}'.format(S_He1 * S_He2))"
   ]
  },
  {
   "cell_type": "markdown",
   "id": "a06355da-b4fb-4751-94d1-61ab90b0e4ce",
   "metadata": {},
   "source": [
    "Assuming we know the number density of hydrogen and helium, we can calculate the number density of electrons. The derivation is given in the homework."
   ]
  },
  {
   "cell_type": "code",
   "execution_count": 6,
   "id": "2970bfcd-47ef-4d5c-a6d2-c680fc9c9d06",
   "metadata": {},
   "outputs": [],
   "source": [
    "n_H = 7e15 / u.cm**3\n",
    "n_He = 7e15 / u.cm**3"
   ]
  },
  {
   "cell_type": "code",
   "execution_count": 7,
   "id": "bd349557-702f-47b6-ba2d-1b96453f5954",
   "metadata": {},
   "outputs": [
    {
     "name": "stdout",
     "output_type": "stream",
     "text": [
      "The electron density due to ionized hydrogen is 7.000e+15 1 / cm3\n",
      "The electron density due to ionized helium is 1.400e+16 1 / cm3\n"
     ]
    }
   ],
   "source": [
    "ne_H = max(np.roots([1, (S_H).cgs.value, (-S_H * n_H).cgs.value])) / u.cm**3\n",
    "ne_He = max(np.roots([1, (S_He1).cgs.value, (S_He1 * S_He2 - S_He1 * n_He).cgs.value, (-2 * S_He1 * S_He2 * n_He).cgs.value])) / u.cm**3\n",
    "print('The electron density due to ionized hydrogen is {:.3e}'.format(ne_H))\n",
    "print('The electron density due to ionized helium is {:.3e}'.format(ne_He))"
   ]
  },
  {
   "cell_type": "markdown",
   "id": "cb3c0b68-7a43-4959-ad01-9ca6c45d74cf",
   "metadata": {},
   "source": [
    "We can of course then calculate the full ionization fraction proxied through the electron fraction."
   ]
  },
  {
   "cell_type": "code",
   "execution_count": 8,
   "id": "a81fe16d-f0fb-4b80-9b1c-9064dc83462f",
   "metadata": {},
   "outputs": [
    {
     "name": "stdout",
     "output_type": "stream",
     "text": [
      "The ionization fraction of hydrogen is 1.000\n",
      "The ionization fraction of helium is 2.000\n"
     ]
    }
   ],
   "source": [
    "print('The ionization fraction of hydrogen is {:.3f}'.format(ne_H / n_H))\n",
    "print('The ionization fraction of helium is {:.3f}'.format(ne_He / n_He))"
   ]
  },
  {
   "cell_type": "markdown",
   "id": "bf1fddfe-e50b-496c-afb6-23440751398f",
   "metadata": {},
   "source": [
    "### Part B"
   ]
  },
  {
   "cell_type": "markdown",
   "id": "d8ce5c03-f0ef-4b09-9ec3-18804b0122ac",
   "metadata": {},
   "source": [
    "To confirm most of the emission is in the X-ray regime, we can plot the emissivity as a function of frequency."
   ]
  },
  {
   "cell_type": "code",
   "execution_count": 24,
   "id": "7ec77ded-548b-4462-93cf-4eff62901cd9",
   "metadata": {},
   "outputs": [],
   "source": [
    "def brem_thermal(nu, T = 8.8e7* u.K, Z=1, ne = 1 / u.cm**3, ni = 1 / u.cm**3, gff = 1.2):\n",
    "    #first = 32 * pi #finish\n",
    "    return np.exp(-h * nu / (k_B * T))"
   ]
  },
  {
   "cell_type": "code",
   "execution_count": 27,
   "id": "dfe27145-4e81-4a0e-b76f-20b7c5ea9d2b",
   "metadata": {},
   "outputs": [
    {
     "data": {
      "image/png": "[encoded data removed]",
      "text/plain": [
       "<Figure size 640x480 with 1 Axes>"
      ]
     },
     "metadata": {},
     "output_type": "display_data"
    }
   ],
   "source": [
    "freq = np.logspace(0, 19, 100) * u.Hz\n",
    "plt.plot(freq, brem_thermal(freq))\n",
    "plt.xscale('log')"
   ]
  },
  {
   "cell_type": "code",
   "execution_count": null,
   "id": "05333723-a21e-4c6d-aa39-a033f1abac30",
   "metadata": {},
   "outputs": [],
   "source": []
  }
 ],
 "metadata": {
  "kernelspec": {
   "display_name": "Python 3 (ipykernel)",
   "language": "python",
   "name": "python3"
  },
  "language_info": {
   "codemirror_mode": {
    "name": "ipython",
    "version": 3
   },
   "file_extension": ".py",
   "mimetype": "text/x-python",
   "name": "python",
   "nbconvert_exporter": "python",
   "pygments_lexer": "ipython3",
   "version": "3.9.12"
  }
 },
 "nbformat": 4,
 "nbformat_minor": 5
}
