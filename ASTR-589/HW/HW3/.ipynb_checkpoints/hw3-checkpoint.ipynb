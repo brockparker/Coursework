{
 "cells": [
  {
   "cell_type": "markdown",
   "id": "21ef0336-0bcb-42d4-8d8b-2121a21e296b",
   "metadata": {},
   "source": [
    "# ASTR-589 HW3\n",
    "\n",
    "## Question 1\n",
    "\n",
    "### Part A\n",
    "\n",
    "We can define the Saha equation to output the ionization ratio times the electron number density."
   ]
  },
  {
   "cell_type": "code",
   "execution_count": 1,
   "id": "0f996e9f-2249-46e7-aba1-bb8c5cf59aab",
   "metadata": {
    "tags": []
   },
   "outputs": [],
   "source": [
    "import numpy as np\n",
    "import astropy.units as u\n",
    "from astropy.constants import k_B, c, m_e, h, b_wien, e, sigma_T\n",
    "import matplotlib.pyplot as plt\n",
    "from scipy.optimize import fsolve\n",
    "from decimal import *"
   ]
  },
  {
   "cell_type": "code",
   "execution_count": 2,
   "id": "01bc865c-748e-41e9-b581-a6884e27ac02",
   "metadata": {
    "tags": []
   },
   "outputs": [],
   "source": [
    "def saha_ne(T, chi, g0=2, g1=1):\n",
    "    '''\n",
    "    Saha equation in terms of ionization ratio times electron number density. To convert to ionization fraction divide by electron number density and \n",
    "    '''\n",
    "    power = (2 * np.pi * m_e * k_B * T / h**2 ) ** (3/2)\n",
    "    # BP Calculating the first term of the saha equation.\n",
    "    degen = 2 * g1 / g0\n",
    "    # BP Calculating the second term of the saha equation.\n",
    "    expon = np.exp(-chi / (T * k_B))\n",
    "    # BP Calculating the Boltzmann term of the saha equation.\n",
    "    \n",
    "    return (power * degen * expon).cgs"
   ]
  },
  {
   "cell_type": "markdown",
   "id": "1b6d4ba9-23b6-4ffb-abd0-06294ce54eb9",
   "metadata": {},
   "source": [
    "For our hydrogen, the output is simply"
   ]
  },
  {
   "cell_type": "code",
   "execution_count": 3,
   "id": "52189bb1-11ae-431f-a06f-d0670616be6f",
   "metadata": {
    "tags": []
   },
   "outputs": [
    {
     "name": "stdout",
     "output_type": "stream",
     "text": [
      "The Saha equation for Hydrogen gives 1.990e+27 1 / cm3\n"
     ]
    }
   ],
   "source": [
    "T = 8.8e7*u.K\n",
    "# BP Defining temperature of the gas.\n",
    "S_H = saha_ne(T, 13.54*u.eV, g0=2, g1=1)\n",
    "# BP Calculating the ionization ratio times the electron density for hydrogen.\n",
    "print('The Saha equation for Hydrogen gives {:.3e}'.format(S_H))"
   ]
  },
  {
   "cell_type": "markdown",
   "id": "c6063487-b9b8-41f4-9f27-e065c2399b59",
   "metadata": {},
   "source": [
    "The same can be done for the two ionization states of Helium."
   ]
  },
  {
   "cell_type": "code",
   "execution_count": 4,
   "id": "3827ab7d-df19-43b3-83fb-b5b2454743b3",
   "metadata": {
    "tags": []
   },
   "outputs": [
    {
     "name": "stdout",
     "output_type": "stream",
     "text": [
      "The Saha equation for the first ionization of Helium gives 7.948e+27 1 / cm3\n",
      "The Saha equation for the second ionization of Helium gives 9.896e+26 1 / cm3\n"
     ]
    }
   ],
   "source": [
    "S_He1 = saha_ne(T, 24.48*u.eV, g0=2, g1=4)\n",
    "S_He2 = saha_ne(T, 54.17*u.eV, g0=4, g1=1)\n",
    "# BP Calculating the ionization ratios times the electron density for helium.\n",
    "print('The Saha equation for the first ionization of Helium gives {:.3e}'.format(S_He1))\n",
    "print('The Saha equation for the second ionization of Helium gives {:.3e}'.format(S_He2))"
   ]
  },
  {
   "cell_type": "code",
   "execution_count": 5,
   "id": "2175e144-902f-4d55-bb59-8b9700ecbb8b",
   "metadata": {
    "tags": []
   },
   "outputs": [
    {
     "name": "stdout",
     "output_type": "stream",
     "text": [
      "The combination of the two gives 7.865e+54 1 / cm6\n"
     ]
    }
   ],
   "source": [
    "S_He = S_He1 * S_He2\n",
    "print('The combination of the two gives {:.3e}'.format(S_He))"
   ]
  },
  {
   "cell_type": "markdown",
   "id": "de73c12a-1cac-4604-bd0a-780d03079ee0",
   "metadata": {},
   "source": [
    "Using the results from part b, we can calculate the actual ionization ratios."
   ]
  },
  {
   "cell_type": "code",
   "execution_count": 21,
   "id": "d6958a9d-a4a6-44bb-b0e3-aafa201a934e",
   "metadata": {
    "tags": []
   },
   "outputs": [
    {
     "name": "stdout",
     "output_type": "stream",
     "text": [
      "The ratio of singly ionized hydrogen to ground state hydrogen is 2.132e+31.\n"
     ]
    }
   ],
   "source": [
    "S_H_r = S_H / n_e\n",
    "print('The ratio of singly ionized hydrogen to ground state hydrogen is {:.3e}.'.format(S_H_r))"
   ]
  },
  {
   "cell_type": "code",
   "execution_count": 22,
   "id": "d7dee2ba-9b4a-4cb8-a19c-a9da1e484b4a",
   "metadata": {
    "tags": []
   },
   "outputs": [
    {
     "name": "stdout",
     "output_type": "stream",
     "text": [
      "The ratio of doubly ionized helium to ground state helium. is 2.132e+31.\n"
     ]
    }
   ],
   "source": [
    "S_He_r = S_He / n_e**2\n",
    "print('The ratio of doubly ionized helium to ground state helium. is {:.3e}.'.format(S_H_r))"
   ]
  },
  {
   "cell_type": "markdown",
   "id": "4167a3ec-6480-4722-bbc7-1c55c6b7b39e",
   "metadata": {},
   "source": [
    "### Part b"
   ]
  },
  {
   "cell_type": "markdown",
   "id": "efeac6f8-7cd3-4583-8888-b6c0d6d992e6",
   "metadata": {},
   "source": [
    "The average frequency photon produced by an electron at temperature $T$ is"
   ]
  },
  {
   "cell_type": "code",
   "execution_count": 23,
   "id": "fe366706-b591-4e27-8ebe-cf29239a67ee",
   "metadata": {
    "tags": []
   },
   "outputs": [
    {
     "name": "stdout",
     "output_type": "stream",
     "text": [
      "The average frequency photon produced is 2.750e+18 1 / s\n"
     ]
    }
   ],
   "source": [
    "nu_ave = (3 * k_B * T) / (2 * h)\n",
    "print('The average frequency photon produced is {:.3e}'.format(nu_ave))"
   ]
  },
  {
   "cell_type": "markdown",
   "id": "09265b26-d8cf-4ee5-a736-0b022b6232fc",
   "metadata": {},
   "source": [
    "The high frequency cutoff defined in the derivation is similarly"
   ]
  },
  {
   "cell_type": "code",
   "execution_count": 24,
   "id": "4c894bf6-46c8-4630-81a7-ee17c499c103",
   "metadata": {
    "tags": []
   },
   "outputs": [
    {
     "name": "stdout",
     "output_type": "stream",
     "text": [
      "The upper frequency cutoff is 1.834e+18 1 / s\n"
     ]
    }
   ],
   "source": [
    "nu_cutoff = k_B * T / h\n",
    "print('The upper frequency cutoff is {:.3e}'.format(nu_cutoff))"
   ]
  },
  {
   "cell_type": "markdown",
   "id": "d55e7beb-7bcd-41c0-ab19-09ebd4d08989",
   "metadata": {},
   "source": [
    "From the homework derivation, we know the emission from the gas is purely thermal Bremsstrahlung. Using our knowledge about ionization states and "
   ]
  },
  {
   "cell_type": "code",
   "execution_count": 8,
   "id": "892ba824-afe9-43d0-9eab-4b684b454a86",
   "metadata": {
    "tags": []
   },
   "outputs": [],
   "source": [
    "def elec_from_brem(T, Lx, R, g_B):\n",
    "    '''\n",
    "    Calculates the average electron density in an optically thin gas homogenously distributed about a sphere of radius R.\n",
    "    Assumes measured X-ray luminosity is all from thermal Bremsstrahlung integrated over frequency.\n",
    "    This takes into account a mass fraction of 3:1 for a combination of fully ionized hydrogen and helium.\n",
    "    '''\n",
    "    power = (3 * m_e) / (2 * np.pi * k_B * T)\n",
    "    factor = (117 * h * m_e * c**3) / (1792 * R**3 * np.pi**2 * e.esu**6 * g_B)\n",
    "    ne = np.sqrt(Lx * np.sqrt(power) * factor)\n",
    "    \n",
    "    return ne.cgs"
   ]
  },
  {
   "cell_type": "code",
   "execution_count": 9,
   "id": "e47884e2-ea56-46c8-a1ce-d05bc49ed831",
   "metadata": {
    "tags": []
   },
   "outputs": [],
   "source": [
    "Lx = 5e44 * u.erg / u.s\n",
    "R = 3*u.Mpc\n",
    "g_B = 1.2\n",
    "# BP Defining paramters from problem description."
   ]
  },
  {
   "cell_type": "code",
   "execution_count": 10,
   "id": "2433af6a-c16b-424d-a665-bff428c75f17",
   "metadata": {
    "tags": []
   },
   "outputs": [
    {
     "name": "stdout",
     "output_type": "stream",
     "text": [
      "The calculated average electron density is 9.331e-05 1 / cm3\n"
     ]
    }
   ],
   "source": [
    "n_e = elec_from_brem(T, Lx, R, g_B)\n",
    "print('The calculated average electron density is {:.3e}'.format(n_e))"
   ]
  },
  {
   "cell_type": "markdown",
   "id": "7fd639ab-37eb-4e12-befe-1925fab856e4",
   "metadata": {},
   "source": [
    "### Part c"
   ]
  },
  {
   "cell_type": "markdown",
   "id": "ae7654e6-3e9f-43d3-9828-f8e66a752ba7",
   "metadata": {},
   "source": [
    "The derived equation for the optical depth can be defined to solve for the roots."
   ]
  },
  {
   "cell_type": "code",
   "execution_count": 11,
   "id": "32ba8cf1-25fb-48df-9db4-e255adebd03a",
   "metadata": {},
   "outputs": [],
   "source": [
    "def opt_dept_brem(nu, T, R, n_e, g_B):\n",
    "    '''\n",
    "    Calculates the optical depth of a cloud of electrons from both bremsstrahlung and thomson electron scattering. Inputs must be astropy quantities and CANNOT be array-like. \n",
    "    Each evaluation takes non-negligible time due to precision \n",
    "    '''\n",
    "    from astropy.constants import k_B, c, m_e, h, b_wien, e, sigma_T\n",
    "    \n",
    "    getcontext().prec = 40\n",
    "\n",
    "    nu_dec = Decimal(u.Quantity(nu, u.Hz).cgs.value)\n",
    "    k_B_dec = Decimal(k_B.cgs.value)\n",
    "    e_dec = Decimal(e.esu.value)\n",
    "    m_e_dec = Decimal(m_e.cgs.value)\n",
    "    h_dec = Decimal(h.cgs.value)\n",
    "    c_dec = Decimal(c.cgs.value)\n",
    "    sigma_T_dec = Decimal(sigma_T.cgs.value)\n",
    "    T_dec = Decimal(T.cgs.value)\n",
    "    n_e_dec = Decimal(n_e.cgs.value)\n",
    "    g_B_dec = Decimal(g_B)\n",
    "    R_dec = Decimal(R.cgs.value)\n",
    "\n",
    "    brem1 = (Decimal(56) * e_dec**Decimal(6)) / (Decimal(39) * m_e_dec * h_dec * c_dec)\n",
    "    brem2 = (Decimal(2) * Decimal(np.pi)) / (Decimal(3) * k_B_dec * m_e_dec)\n",
    "    brem3 = n_e_dec**Decimal(2) * g_B_dec / (T_dec**Decimal(0.5))\n",
    "    brem4 = Decimal(1) - Decimal(-(h_dec * nu_dec) / (k_B_dec * T_dec)).exp()\n",
    "    \n",
    "    prefac = brem1 * brem2**Decimal(0.5) * brem3\n",
    "    brem = prefac / Decimal(nu_dec**Decimal(3)) * brem4\n",
    "    \n",
    "    thom = sigma_T_dec * n_e_dec\n",
    "    \n",
    "    #print(R.cgs*prefac.cgs, R.cgs*thom.cgs)\n",
    "    \n",
    "    return R_dec * (brem + thom)"
   ]
  },
  {
   "cell_type": "code",
   "execution_count": 12,
   "id": "380cf48d-beb7-415e-93b2-59f260195941",
   "metadata": {
    "tags": []
   },
   "outputs": [],
   "source": [
    "def opt_dept_brem_RJ(nu, T, R, n_e, g_B):\n",
    "    nu = u.Quantity(nu, u.Hz)\n",
    "    brem1 = (56 * e.esu**6) / (39 * m_e * k_B * c)\n",
    "    brem2 = (2 * np.pi) / (3 * k_B * m_e)\n",
    "    brem3 = n_e**2 * g_B / (T**1.5)\n",
    "    \n",
    "    prefac = brem1 * brem2**0.5 * brem3\n",
    "    brem = prefac / nu**2\n",
    "    \n",
    "    thom = sigma_T * n_e\n",
    "    \n",
    "    return (R * (brem + thom)).cgs"
   ]
  },
  {
   "cell_type": "code",
   "execution_count": 13,
   "id": "868b06d1-c1de-4377-b259-21bf537b90fd",
   "metadata": {
    "tags": []
   },
   "outputs": [
    {
     "name": "stdout",
     "output_type": "stream",
     "text": [
      "[47.29949964] Hz\n"
     ]
    }
   ],
   "source": [
    "func = lambda nu: opt_dept_brem_RJ(nu, T, R, n_e, g_B) - 1\n",
    "nu_cutoff = fsolve(func, 45) * u.Hz\n",
    "print(nu_cutoff)"
   ]
  },
  {
   "cell_type": "code",
   "execution_count": 14,
   "id": "f8d03982-d4ee-4937-82c8-588fa3c1ec68",
   "metadata": {
    "tags": []
   },
   "outputs": [],
   "source": [
    "nus = np.logspace(0, 20, 1000)*u.Hz\n",
    "taus = []\n",
    "for nu in nus:\n",
    "    taus.append(opt_dept_brem(nu, T, R, n_e, g_B))"
   ]
  },
  {
   "cell_type": "code",
   "execution_count": 15,
   "id": "11653e12-f8a5-4cfb-a8b8-a4b8d2cbfd34",
   "metadata": {
    "tags": []
   },
   "outputs": [],
   "source": [
    "plt.rc('axes', labelsize=14)\n",
    "plt.rc('figure', titlesize=30)\n",
    "plt.rc('xtick', labelsize=12)\n",
    "plt.rc('ytick', labelsize=12)\n",
    "plt.rc('legend', fontsize=12)\n",
    "# BP Stylization parameters."
   ]
  },
  {
   "cell_type": "code",
   "execution_count": 16,
   "id": "e927a27c-57fe-4d62-8ae1-4098ecebdeb5",
   "metadata": {
    "tags": []
   },
   "outputs": [
    {
     "data": {
      "image/png": "[encoded data removed]",
      "text/plain": [
       "<Figure size 600x400 with 1 Axes>"
      ]
     },
     "metadata": {},
     "output_type": "display_data"
    }
   ],
   "source": [
    "fig, ax = plt.subplots(1, 1, figsize=(6,4), layout='tight')\n",
    "\n",
    "ax.plot(nus, opt_dept_brem_RJ(nus, T, R, n_e, g_B), label = 'Rayleigh-Jeans', color='sandybrown')\n",
    "ax.plot(nus, taus, label='Full Precision', color = 'cornflowerblue')\n",
    "ax.axhline(1, color = 'grey', ls = '--')\n",
    "\n",
    "ax.set_xscale('log')\n",
    "ax.set_yscale('log')\n",
    "ax.legend(loc = 'upper right')\n",
    "ax.set_xlabel('Frequency (Hz)')\n",
    "ax.set_ylabel('Optical Depth')\n",
    "plt.savefig('/home/baparker/GitHub/Coursework/ASTR-589/HW/HW3/HW3_1_c.png')"
   ]
  },
  {
   "cell_type": "code",
   "execution_count": 17,
   "id": "b219efd9-98f5-441a-81e8-1a7fe4cba3aa",
   "metadata": {
    "tags": []
   },
   "outputs": [],
   "source": [
    "nus = np.linspace(47, 48, 10000)*u.Hz\n",
    "taus = []\n",
    "for nu in nus:\n",
    "    taus.append(opt_dept_brem(nu, T, R, n_e, g_B))"
   ]
  },
  {
   "cell_type": "code",
   "execution_count": 18,
   "id": "7e556b1a-eedd-49d3-a170-868e56c13217",
   "metadata": {
    "tags": []
   },
   "outputs": [
    {
     "data": {
      "text/latex": [
       "$47.29943 \\; \\mathrm{Hz}$"
      ],
      "text/plain": [
       "<Quantity 47.29942994 Hz>"
      ]
     },
     "execution_count": 18,
     "metadata": {},
     "output_type": "execute_result"
    }
   ],
   "source": [
    "nus[np.where(np.array(taus)>1)[0][-1]]"
   ]
  },
  {
   "cell_type": "markdown",
   "id": "7475a9c7-839b-44d3-8754-687d7cca6813",
   "metadata": {},
   "source": [
    "### Part d"
   ]
  },
  {
   "cell_type": "markdown",
   "id": "4973f863-a2a2-49a6-a407-c020a6f8b4da",
   "metadata": {},
   "source": [
    "The total cooling time is simply the stored energy divided by the luminosity."
   ]
  },
  {
   "cell_type": "code",
   "execution_count": 19,
   "id": "e6ffb098-bf64-472d-8ddc-9f0bdbd00172",
   "metadata": {},
   "outputs": [
    {
     "name": "stdout",
     "output_type": "stream",
     "text": [
      "The cooling time for the cluster is 1.130e+19 s, or 358.117 Gyr\n"
     ]
    }
   ],
   "source": [
    "t_cool = (12 * k_B * T * n_e * np.pi * R**3) / (6 * Lx)\n",
    "print('The cooling time for the cluster is {:.3e}, or {:.3f}'.format(t_cool.cgs,t_cool.to(u.Gyr)))"
   ]
  }
 ],
 "metadata": {
  "kernelspec": {
   "display_name": "Python 3 (ipykernel)",
   "language": "python",
   "name": "python3"
  },
  "language_info": {
   "codemirror_mode": {
    "name": "ipython",
    "version": 3
   },
   "file_extension": ".py",
   "mimetype": "text/x-python",
   "name": "python",
   "nbconvert_exporter": "python",
   "pygments_lexer": "ipython3",
   "version": "3.11.4"
  }
 },
 "nbformat": 4,
 "nbformat_minor": 5
}
