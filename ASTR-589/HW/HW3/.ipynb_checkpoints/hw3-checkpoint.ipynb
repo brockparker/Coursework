{
 "cells": [
  {
   "cell_type": "markdown",
   "id": "21ef0336-0bcb-42d4-8d8b-2121a21e296b",
   "metadata": {},
   "source": [
    "# ASTR-589 HW3\n",
    "\n",
    "## Question 1\n",
    "\n",
    "### Part A\n",
    "\n",
    "We can define the Saha equation to output the ionization ratio times the electron number density."
   ]
  },
  {
   "cell_type": "code",
   "execution_count": 268,
   "id": "0f996e9f-2249-46e7-aba1-bb8c5cf59aab",
   "metadata": {
    "tags": []
   },
   "outputs": [],
   "source": [
    "import numpy as np\n",
    "import astropy.units as u\n",
    "from astropy.constants import k_B, c, m_e, h, b_wien, e, sigma_T\n",
    "import matplotlib.pyplot as plt"
   ]
  },
  {
   "cell_type": "code",
   "execution_count": 58,
   "id": "01bc865c-748e-41e9-b581-a6884e27ac02",
   "metadata": {
    "tags": []
   },
   "outputs": [],
   "source": [
    "def saha_ne(T, chi, g0=2, g1=1):\n",
    "    '''\n",
    "    Saha equation in terms of ionization ratio times electron number density. To convert to ionization fraction divide by electron number density and \n",
    "    '''\n",
    "    power = (2 * np.pi * m_e * k_B * T / h**2 ) ** (3/2)\n",
    "    # BP Calculating the first term of the saha equation.\n",
    "    degen = 2 * g1 / g0\n",
    "    # BP Calculating the second term of the saha equation.\n",
    "    expon = np.exp(-chi / (T * k_B))\n",
    "    # BP Calculating the Boltzmann term of the saha equation.\n",
    "    \n",
    "    return (power * degen * expon).cgs"
   ]
  },
  {
   "cell_type": "markdown",
   "id": "1b6d4ba9-23b6-4ffb-abd0-06294ce54eb9",
   "metadata": {},
   "source": [
    "For our hydrogen, the output is simply"
   ]
  },
  {
   "cell_type": "code",
   "execution_count": 59,
   "id": "52189bb1-11ae-431f-a06f-d0670616be6f",
   "metadata": {
    "tags": []
   },
   "outputs": [
    {
     "name": "stdout",
     "output_type": "stream",
     "text": [
      "The Saha equation for Hydrogen gives 1.990e+27 1 / cm3\n"
     ]
    }
   ],
   "source": [
    "T = 8.8e7*u.K\n",
    "# BP Defining temperature of the gas.\n",
    "S_H = saha_ne(T, 13.54*u.eV, g0=2, g1=1)\n",
    "# BP Calculating the ionization ratio times the electron density for hydrogen.\n",
    "print('The Saha equation for Hydrogen gives {:.3e}'.format(S_H))"
   ]
  },
  {
   "cell_type": "markdown",
   "id": "c6063487-b9b8-41f4-9f27-e065c2399b59",
   "metadata": {},
   "source": [
    "The same can be done for the two ionization states of Helium."
   ]
  },
  {
   "cell_type": "code",
   "execution_count": 60,
   "id": "3827ab7d-df19-43b3-83fb-b5b2454743b3",
   "metadata": {
    "tags": []
   },
   "outputs": [
    {
     "name": "stdout",
     "output_type": "stream",
     "text": [
      "The Saha equation for the first ionization of Helium gives 7.948e+27 1 / cm3\n",
      "The Saha equation for the second ionization of Helium gives 9.896e+26 1 / cm3\n"
     ]
    }
   ],
   "source": [
    "S_He1 = saha_ne(T, 24.48*u.eV, g0=2, g1=4)\n",
    "S_He2 = saha_ne(T, 54.17*u.eV, g0=4, g1=1)\n",
    "# BP Calculating the ionization ratios times the electron density for helium.\n",
    "print('The Saha equation for the first ionization of Helium gives {:.3e}'.format(S_He1))\n",
    "print('The Saha equation for the second ionization of Helium gives {:.3e}'.format(S_He2))"
   ]
  },
  {
   "cell_type": "code",
   "execution_count": 61,
   "id": "2175e144-902f-4d55-bb59-8b9700ecbb8b",
   "metadata": {
    "tags": []
   },
   "outputs": [
    {
     "name": "stdout",
     "output_type": "stream",
     "text": [
      "The combination of the two gives 7.865e+54 1 / cm6\n"
     ]
    }
   ],
   "source": [
    "print('The combination of the two gives {:.3e}'.format(S_He1 * S_He2))"
   ]
  },
  {
   "cell_type": "markdown",
   "id": "4167a3ec-6480-4722-bbc7-1c55c6b7b39e",
   "metadata": {},
   "source": [
    "### Part b"
   ]
  },
  {
   "cell_type": "markdown",
   "id": "d55e7beb-7bcd-41c0-ab19-09ebd4d08989",
   "metadata": {},
   "source": [
    "From the homework derivation, we know the emission from the gas is purely thermal Bremsstrahlung. Using our knowledge about ionization states and "
   ]
  },
  {
   "cell_type": "code",
   "execution_count": 214,
   "id": "892ba824-afe9-43d0-9eab-4b684b454a86",
   "metadata": {
    "tags": []
   },
   "outputs": [],
   "source": [
    "def elec_from_brem(T, Lx, R, g_B):\n",
    "    '''\n",
    "    Calculates the average electron density in an optically thin gas homogenously distributed about a sphere of radius R.\n",
    "    Assumes measured X-ray luminosity is all from thermal Bremsstrahlung integrated over frequency.\n",
    "    This takes into account a mass fraction of 3:1 for a combination of fully ionized hydrogen and helium.\n",
    "    '''\n",
    "    power = (3 * m_e) / (2 * np.pi * k_B * T)\n",
    "    factor = (117 * h * m_e * c**3) / (1792 * R**3 * np.pi**2 * e.esu**6 * g_B)\n",
    "    ne = np.sqrt(Lx * np.sqrt(power) * factor)\n",
    "    \n",
    "    return ne.cgs"
   ]
  },
  {
   "cell_type": "code",
   "execution_count": 215,
   "id": "e47884e2-ea56-46c8-a1ce-d05bc49ed831",
   "metadata": {
    "tags": []
   },
   "outputs": [],
   "source": [
    "Lx = 5e44 * u.erg / u.s\n",
    "R = 3*u.Mpc\n",
    "g_B = 1.2\n",
    "# BP Defining paramters from problem description."
   ]
  },
  {
   "cell_type": "code",
   "execution_count": 269,
   "id": "2433af6a-c16b-424d-a665-bff428c75f17",
   "metadata": {
    "tags": []
   },
   "outputs": [
    {
     "name": "stdout",
     "output_type": "stream",
     "text": [
      "The calculated average electron density is 9.331e-05 1 / cm3\n"
     ]
    }
   ],
   "source": [
    "n_e = elec_from_brem(T, Lx, R, g_B)\n",
    "print('The calculated average electron density is {:.3e}'.format(n_e))"
   ]
  },
  {
   "cell_type": "code",
   "execution_count": null,
   "id": "ffb67522-c496-416f-933b-9c83ab225bb0",
   "metadata": {},
   "outputs": [],
   "source": []
  },
  {
   "cell_type": "code",
   "execution_count": null,
   "id": "32ba8cf1-25fb-48df-9db4-e255adebd03a",
   "metadata": {},
   "outputs": [],
   "source": []
  },
  {
   "cell_type": "code",
   "execution_count": null,
   "id": "4d449958-0c9c-4aca-80f9-11bd2f029704",
   "metadata": {},
   "outputs": [],
   "source": []
  },
  {
   "cell_type": "code",
   "execution_count": null,
   "id": "21694c71-7b03-4ad7-bfd5-d86b7572edef",
   "metadata": {},
   "outputs": [],
   "source": []
  },
  {
   "cell_type": "code",
   "execution_count": null,
   "id": "e6ffb098-bf64-472d-8ddc-9f0bdbd00172",
   "metadata": {},
   "outputs": [],
   "source": []
  },
  {
   "cell_type": "code",
   "execution_count": null,
   "id": "b04c6a8a-7443-4b86-a4a5-5e96f1ba6b12",
   "metadata": {},
   "outputs": [],
   "source": []
  },
  {
   "cell_type": "code",
   "execution_count": null,
   "id": "93201a3d-783d-466c-8686-b2ca1e307522",
   "metadata": {},
   "outputs": [],
   "source": []
  },
  {
   "cell_type": "code",
   "execution_count": null,
   "id": "018501ab-5af4-4518-bbe8-4e543767b384",
   "metadata": {},
   "outputs": [],
   "source": []
  },
  {
   "cell_type": "code",
   "execution_count": null,
   "id": "3e0c5026-5b04-4df2-9912-60ea65ea81ee",
   "metadata": {},
   "outputs": [],
   "source": []
  },
  {
   "cell_type": "code",
   "execution_count": 234,
   "id": "43dc5fbb-3108-4bc8-be47-f9974958643c",
   "metadata": {
    "tags": []
   },
   "outputs": [],
   "source": [
    "def units_eta_ff():\n",
    "    power = (2 * np.pi * k_B) / (3 * m_e)\n",
    "    factor = (32 * np.pi * e.esu**6) / (3 * h * m_e * c**3)\n",
    "    return factor * power**0.5"
   ]
  },
  {
   "cell_type": "code",
   "execution_count": 235,
   "id": "9ca9956a-e2b3-4411-8a36-8f338a5587fe",
   "metadata": {
    "tags": []
   },
   "outputs": [
    {
     "data": {
      "text/latex": [
       "$1.4255567 \\times 10^{-27} \\; \\mathrm{\\frac{cm^{5}\\,g}{K^{1/2}\\,s^{3}}}$"
      ],
      "text/plain": [
       "<Quantity 1.42555669e-27 cm5 g / (K(1/2) s3)>"
      ]
     },
     "execution_count": 235,
     "metadata": {},
     "output_type": "execute_result"
    }
   ],
   "source": [
    "units_eta_ff().cgs"
   ]
  },
  {
   "cell_type": "code",
   "execution_count": 236,
   "id": "ed0f90e1-a964-4883-8fab-54dc8352f45d",
   "metadata": {
    "tags": []
   },
   "outputs": [],
   "source": [
    "def units_alpha_nu_ff():\n",
    "    power = (2 * np.pi) / (3 * k_B * m_e)\n",
    "    factor = (4 * e.esu**6) / (3 * m_e * h * c)\n",
    "    return factor * power**0.5"
   ]
  },
  {
   "cell_type": "code",
   "execution_count": 237,
   "id": "fe7848a6-6633-4296-83dc-4ce440971ea2",
   "metadata": {
    "tags": []
   },
   "outputs": [
    {
     "data": {
      "text/latex": [
       "$3.6923491 \\times 10^{8} \\; \\mathrm{\\frac{cm^{5}\\,K^{1/2}}{s^{3}}}$"
      ],
      "text/plain": [
       "<Quantity 3.69234911e+08 cm5 K(1/2) / s3>"
      ]
     },
     "execution_count": 237,
     "metadata": {},
     "output_type": "execute_result"
    }
   ],
   "source": [
    "units_alpha_nu_ff().cgs"
   ]
  },
  {
   "cell_type": "code",
   "execution_count": null,
   "id": "f1b0a076-ff47-4889-82bd-6a96ce821287",
   "metadata": {},
   "outputs": [],
   "source": []
  },
  {
   "cell_type": "code",
   "execution_count": null,
   "id": "47000e52-b84f-4d88-9627-63dc510b0dce",
   "metadata": {},
   "outputs": [],
   "source": []
  },
  {
   "cell_type": "code",
   "execution_count": null,
   "id": "28340cea-87e8-4b34-ae71-445286e6c55c",
   "metadata": {},
   "outputs": [],
   "source": []
  },
  {
   "cell_type": "code",
   "execution_count": 271,
   "id": "a4baeaa5-06ee-4dee-b471-24ef205a704f",
   "metadata": {
    "tags": []
   },
   "outputs": [
    {
     "data": {
      "text/latex": [
       "$6.2075369 \\times 10^{-29} \\; \\mathrm{\\frac{1}{cm}}$"
      ],
      "text/plain": [
       "<Quantity 6.20753687e-29 1 / cm>"
      ]
     },
     "execution_count": 271,
     "metadata": {},
     "output_type": "execute_result"
    }
   ],
   "source": [
    "(n_e * sigma_T).cgs"
   ]
  },
  {
   "cell_type": "code",
   "execution_count": 272,
   "id": "a7e47cdf-b250-4cd7-8701-f668254eb390",
   "metadata": {
    "tags": []
   },
   "outputs": [
    {
     "data": {
      "text/latex": [
       "$1.0802598 \\times 10^{-25} \\; \\mathrm{\\frac{1}{cm}}$"
      ],
      "text/plain": [
       "<Quantity 1.08025976e-25 1 / cm>"
      ]
     },
     "execution_count": 272,
     "metadata": {},
     "output_type": "execute_result"
    }
   ],
   "source": [
    "1/R.cgs"
   ]
  },
  {
   "cell_type": "code",
   "execution_count": 273,
   "id": "1cb82b4d-1c19-4ccf-8cc3-e97912694417",
   "metadata": {
    "tags": []
   },
   "outputs": [
    {
     "data": {
      "text/latex": [
       "$5.4536853 \\times 10^{-19} \\; \\mathrm{s}$"
      ],
      "text/plain": [
       "<Quantity 5.45368531e-19 s>"
      ]
     },
     "execution_count": 273,
     "metadata": {},
     "output_type": "execute_result"
    }
   ],
   "source": [
    "(h / k_B / T).cgs"
   ]
  },
  {
   "cell_type": "code",
   "execution_count": 275,
   "id": "4cf89fab-9b75-4e7f-b886-51b21feadf71",
   "metadata": {
    "tags": []
   },
   "outputs": [
    {
     "data": {
      "text/latex": [
       "$1.8336225 \\times 10^{18} \\; \\mathrm{\\frac{1}{s}}$"
      ],
      "text/plain": [
       "<Quantity 1.83362248e+18 1 / s>"
      ]
     },
     "execution_count": 275,
     "metadata": {},
     "output_type": "execute_result"
    }
   ],
   "source": [
    "nu = k_B * T / h\n",
    "nu"
   ]
  },
  {
   "cell_type": "code",
   "execution_count": null,
   "id": "21747e6f-6148-4e51-b73e-f4ed45680f1d",
   "metadata": {},
   "outputs": [],
   "source": []
  }
 ],
 "metadata": {
  "kernelspec": {
   "display_name": "Python 3 (ipykernel)",
   "language": "python",
   "name": "python3"
  },
  "language_info": {
   "codemirror_mode": {
    "name": "ipython",
    "version": 3
   },
   "file_extension": ".py",
   "mimetype": "text/x-python",
   "name": "python",
   "nbconvert_exporter": "python",
   "pygments_lexer": "ipython3",
   "version": "3.11.4"
  }
 },
 "nbformat": 4,
 "nbformat_minor": 5
}
