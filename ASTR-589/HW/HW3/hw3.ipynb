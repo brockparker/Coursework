{
 "cells": [
  {
   "cell_type": "markdown",
   "id": "21ef0336-0bcb-42d4-8d8b-2121a21e296b",
   "metadata": {},
   "source": [
    "# ASTR-589 HW3\n",
    "\n",
    "## Question 1\n",
    "\n",
    "### Part A\n",
    "\n",
    "We can define the Saha equation to output the ionization ratio times the electron number density."
   ]
  },
  {
   "cell_type": "code",
   "execution_count": 1,
   "id": "0f996e9f-2249-46e7-aba1-bb8c5cf59aab",
   "metadata": {},
   "outputs": [],
   "source": [
    "import numpy as np\n",
    "import astropy.units as u\n",
    "from astropy.constants import k_B, c, m_e, h\n",
    "import matplotlib.pyplot as plt"
   ]
  },
  {
   "cell_type": "code",
   "execution_count": 2,
   "id": "01bc865c-748e-41e9-b581-a6884e27ac02",
   "metadata": {},
   "outputs": [],
   "source": [
    "def saha_ne(T, chi, g0=2, g1=1):\n",
    "    '''\n",
    "    Saha equation in terms of ionization ratio times electron number density. To convert to ionization fraction divide by electron number density and \n",
    "    '''\n",
    "    power = (2 * np.pi * m_e * k_B * T / h**2 ) ** (3/2)\n",
    "    # BP Calculating the first term of the saha equation.\n",
    "    degen = 2 * g1 / g0\n",
    "    # BP Calculating the second term of the saha equation.\n",
    "    expon = np.exp(-chi / (T * k_B))\n",
    "    # BP Calculating the Boltzmann term of the saha equation.\n",
    "    \n",
    "    return (power * degen * expon).cgs"
   ]
  },
  {
   "cell_type": "markdown",
   "id": "1b6d4ba9-23b6-4ffb-abd0-06294ce54eb9",
   "metadata": {},
   "source": [
    "For our hydrogen, the output is simply"
   ]
  },
  {
   "cell_type": "code",
   "execution_count": 3,
   "id": "52189bb1-11ae-431f-a06f-d0670616be6f",
   "metadata": {},
   "outputs": [
    {
     "name": "stdout",
     "output_type": "stream",
     "text": [
      "The Saha equation for Hydrogen gives 1.990e+27 1 / cm3\n"
     ]
    }
   ],
   "source": [
    "S_H = saha_ne(8.8e7*u.K, 13.54*u.eV, g0=2, g1=1)\n",
    "print('The Saha equation for Hydrogen gives {:.3e}'.format(S_H))"
   ]
  },
  {
   "cell_type": "markdown",
   "id": "c6063487-b9b8-41f4-9f27-e065c2399b59",
   "metadata": {},
   "source": [
    "The same can be done for the two ionization states of Helium."
   ]
  },
  {
   "cell_type": "code",
   "execution_count": 4,
   "id": "3827ab7d-df19-43b3-83fb-b5b2454743b3",
   "metadata": {},
   "outputs": [
    {
     "name": "stdout",
     "output_type": "stream",
     "text": [
      "The Saha equation for the first ionization of Helium gives 7.948e+27 1 / cm3\n",
      "The Saha equation for the second ionization of Helium gives 9.896e+26 1 / cm3\n"
     ]
    }
   ],
   "source": [
    "S_He1 = saha_ne(8.8e7*u.K, 24.48*u.eV, g0=2, g1=4)\n",
    "S_He2 = saha_ne(8.8e7*u.K, 54.17*u.eV, g0=4, g1=1)\n",
    "print('The Saha equation for the first ionization of Helium gives {:.3e}'.format(S_He1))\n",
    "print('The Saha equation for the second ionization of Helium gives {:.3e}'.format(S_He2))"
   ]
  },
  {
   "cell_type": "code",
   "execution_count": 5,
   "id": "2175e144-902f-4d55-bb59-8b9700ecbb8b",
   "metadata": {},
   "outputs": [
    {
     "name": "stdout",
     "output_type": "stream",
     "text": [
      "The combination of the two gives 7.865e+54 1 / cm6\n"
     ]
    }
   ],
   "source": [
    "print('The combination of the two gives {:.3e}'.format(S_He1 * S_He2))"
   ]
  },
  {
   "cell_type": "markdown",
   "id": "a06355da-b4fb-4751-94d1-61ab90b0e4ce",
   "metadata": {},
   "source": [
    "Assuming we know the number density of hydrogen and helium, we can calculate the number density of electrons. The derivation is given in the homework."
   ]
  },
  {
   "cell_type": "code",
   "execution_count": 6,
   "id": "2970bfcd-47ef-4d5c-a6d2-c680fc9c9d06",
   "metadata": {},
   "outputs": [],
   "source": [
    "n_H = 7e15 / u.cm**3\n",
    "n_He = 7e15 / u.cm**3"
   ]
  },
  {
   "cell_type": "code",
   "execution_count": 7,
   "id": "bd349557-702f-47b6-ba2d-1b96453f5954",
   "metadata": {},
   "outputs": [
    {
     "name": "stdout",
     "output_type": "stream",
     "text": [
      "The electron density due to ionized hydrogen is 7.000e+15 1 / cm3\n",
      "The electron density due to ionized helium is 1.400e+16 1 / cm3\n"
     ]
    }
   ],
   "source": [
    "ne_H = max(np.roots([1, (S_H).cgs.value, (-S_H * n_H).cgs.value])) / u.cm**3\n",
    "ne_He = max(np.roots([1, (S_He1).cgs.value, (S_He1 * S_He2 - S_He1 * n_He).cgs.value, (-2 * S_He1 * S_He2 * n_He).cgs.value])) / u.cm**3\n",
    "print('The electron density due to ionized hydrogen is {:.3e}'.format(ne_H))\n",
    "print('The electron density due to ionized helium is {:.3e}'.format(ne_He))"
   ]
  },
  {
   "cell_type": "markdown",
   "id": "cb3c0b68-7a43-4959-ad01-9ca6c45d74cf",
   "metadata": {},
   "source": [
    "We can of course then calculate the full ionization fraction proxied through the electron fraction."
   ]
  },
  {
   "cell_type": "code",
   "execution_count": 8,
   "id": "a81fe16d-f0fb-4b80-9b1c-9064dc83462f",
   "metadata": {},
   "outputs": [
    {
     "name": "stdout",
     "output_type": "stream",
     "text": [
      "The ionization fraction of hydrogen is 1.000\n",
      "The ionization fraction of helium is 2.000\n"
     ]
    }
   ],
   "source": [
    "print('The ionization fraction of hydrogen is {:.3f}'.format(ne_H / n_H))\n",
    "print('The ionization fraction of helium is {:.3f}'.format(ne_He / n_He))"
   ]
  },
  {
   "cell_type": "markdown",
   "id": "bf1fddfe-e50b-496c-afb6-23440751398f",
   "metadata": {},
   "source": [
    "### Part B"
   ]
  },
  {
   "cell_type": "markdown",
   "id": "d8ce5c03-f0ef-4b09-9ec3-18804b0122ac",
   "metadata": {},
   "source": [
    "To confirm most of the emission is in the X-ray regime, we can plot the emissivity as a function of frequency."
   ]
  },
  {
   "cell_type": "code",
   "execution_count": 9,
   "id": "7ec77ded-548b-4462-93cf-4eff62901cd9",
   "metadata": {},
   "outputs": [],
   "source": [
    "def brem_thermal(nu, T = 8.8e7* u.K, Z=1, ne = 1 / u.cm**3, ni = 1 / u.cm**3, gff = 1.2):\n",
    "    #first = 32 * pi #finish\n",
    "    return np.exp(-h * nu / (k_B * T))"
   ]
  },
  {
   "cell_type": "code",
   "execution_count": 10,
   "id": "dfe27145-4e81-4a0e-b76f-20b7c5ea9d2b",
   "metadata": {},
   "outputs": [
    {
     "data": {
      "image/png": "[encoded data removed]",
      "text/plain": [
       "<Figure size 640x480 with 1 Axes>"
      ]
     },
     "metadata": {},
     "output_type": "display_data"
    }
   ],
   "source": [
    "freq = np.logspace(0, 19, 100) * u.Hz\n",
    "plt.plot(freq, brem_thermal(freq))\n",
    "plt.xscale('log')"
   ]
  },
  {
   "cell_type": "code",
   "execution_count": null,
   "id": "05333723-a21e-4c6d-aa39-a033f1abac30",
   "metadata": {},
   "outputs": [],
   "source": [
    "import numpy as np\n",
    "import matplotlib.pyplot as plt\n",
    "import astropy.units as u\n",
    "from astropy.constants import k_B, h, m_e, c, b_wien\n",
    "from astropy.visualization import quantity_support\n",
    "from astropy.modeling import models"
   ]
  },
  {
   "cell_type": "code",
   "execution_count": 25,
   "id": "1383cac4-927f-41b8-b00a-d4f119c8bb28",
   "metadata": {
    "tags": []
   },
   "outputs": [],
   "source": [
    "T = 8.8e7*u.K\n",
    "nu = np.logspace(1, 19, 1000)*u.Hz"
   ]
  },
  {
   "cell_type": "code",
   "execution_count": 26,
   "id": "dee4704d-18ff-478a-b753-0d84aebb6083",
   "metadata": {
    "tags": []
   },
   "outputs": [],
   "source": [
    "def bremsstrahlung(nu, T=8.8e7*u.K, Z=1, n_e = 1e15/u.cm**3, n_i=1e15/u.cm**3, gff=1.2):\n",
    "    factor = 32 * np.pi * np.exp(6) / (3 * m_e * c**3) * (2 * np.pi / (3*k_B*m_e))**(1/2) * T**(-1/2) * Z**2 * n_e * n_i\n",
    "    expon = np.exp(-h * nu / (k_B * T))\n",
    "    return factor * expon * gff"
   ]
  },
  {
   "cell_type": "code",
   "execution_count": 31,
   "id": "260f2e0f-c131-441f-9508-9e5c958abb06",
   "metadata": {
    "tags": []
   },
   "outputs": [],
   "source": [
    "nu_cutoff = k_B * T / h"
   ]
  },
  {
   "cell_type": "code",
   "execution_count": 52,
   "id": "09ef5831-6381-4c28-8a12-971bb472d516",
   "metadata": {
    "tags": []
   },
   "outputs": [],
   "source": [
    "bb = models.BlackBody(temperature=8.8e7*u.K)"
   ]
  },
  {
   "cell_type": "code",
   "execution_count": 53,
   "id": "1be547af-7061-4b59-9a67-dd214bf451a6",
   "metadata": {
    "tags": []
   },
   "outputs": [
    {
     "data": {
      "image/png": "[encoded data removed]",
      "text/plain": [
       "<Figure size 640x480 with 1 Axes>"
      ]
     },
     "metadata": {},
     "output_type": "display_data"
    }
   ],
   "source": [
    "with quantity_support():\n",
    "    plt.plot(nu, bremsstrahlung(nu)/np.max(bremsstrahlung(nu)))\n",
    "    plt.plot(nu, bb(nu)/np.max(bb(nu)))\n",
    "    plt.axvline(nu_cutoff)\n",
    "    #plt.yscale('log')\n",
    "    #plt.xscale('log')\n",
    "    plt.xlabel('Frequency (Hz)')\n",
    "    plt.ylabel('Emissivity (erg s-1 cm-3)')"
   ]
  },
  {
   "cell_type": "code",
   "execution_count": 36,
   "id": "82c48916-ff1b-4521-9def-3d3de2261e63",
   "metadata": {
    "tags": []
   },
   "outputs": [
    {
     "data": {
      "text/latex": [
       "$3.5269701 \\times 10^{14} \\; \\mathrm{Hz}$"
      ],
      "text/plain": [
       "<Quantity 3.52697009e+14 Hz>"
      ]
     },
     "execution_count": 36,
     "metadata": {},
     "output_type": "execute_result"
    }
   ],
   "source": [
    "(850*u.nm).to(u.Hz, equivalencies = u.spectral())"
   ]
  },
  {
   "cell_type": "code",
   "execution_count": 55,
   "id": "207f1863-186b-4d47-ada0-8b17a120386b",
   "metadata": {
    "tags": []
   },
   "outputs": [],
   "source": [
    "def wien(T):\n",
    "    l_max = b_wien / T\n",
    "    return(l_max)"
   ]
  },
  {
   "cell_type": "code",
   "execution_count": 58,
   "id": "6b253379-404a-4e54-b9de-69df2b2a7417",
   "metadata": {
    "tags": []
   },
   "outputs": [
    {
     "name": "stdout",
     "output_type": "stream",
     "text": [
      "The wavelength of maximum emission from Wien's Law is 0.0329 nm\n"
     ]
    }
   ],
   "source": [
    "l_max = wien(8.8e7*u.K)\n",
    "print('The wavelength of maximum emission from Wien\\'s Law is {:.4f}'.format(l_max.to(u.nm)))"
   ]
  },
  {
   "cell_type": "code",
   "execution_count": null,
   "id": "117c7330-d57f-4f53-8808-cc67a94615f5",
   "metadata": {},
   "outputs": [],
   "source": []
  }
 ],
 "metadata": {
  "kernelspec": {
   "display_name": "Python 3 (ipykernel)",
   "language": "python",
   "name": "python3"
  },
  "language_info": {
   "codemirror_mode": {
    "name": "ipython",
    "version": 3
   },
   "file_extension": ".py",
   "mimetype": "text/x-python",
   "name": "python",
   "nbconvert_exporter": "python",
   "pygments_lexer": "ipython3",
   "version": "3.11.4"
  }
 },
 "nbformat": 4,
 "nbformat_minor": 5
}
