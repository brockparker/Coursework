{
 "cells": [
  {
   "cell_type": "markdown",
   "id": "ae87d27e-85fa-42af-8a97-5f78ec84344c",
   "metadata": {},
   "source": [
    "# HW 5"
   ]
  },
  {
   "cell_type": "code",
   "execution_count": 1,
   "id": "4e8bddf9-b229-4513-aa31-038675e84078",
   "metadata": {
    "tags": []
   },
   "outputs": [],
   "source": [
    "import numpy as np\n",
    "from decimal import *\n",
    "import astropy.units as u\n",
    "from astropy.constants import m_p, k_B\n",
    "from scipy.optimize import fsolve"
   ]
  },
  {
   "cell_type": "markdown",
   "id": "9b386c23-b096-4cdc-a284-0ae5a2b19c07",
   "metadata": {},
   "source": [
    "### Calculate density"
   ]
  },
  {
   "cell_type": "markdown",
   "id": "43c5e37d-b068-4fbe-a7bd-4392b4b1c4d5",
   "metadata": {},
   "source": [
    "$$\\rho_1 = n_1 m_p = n_{HII} m_p$$"
   ]
  },
  {
   "cell_type": "markdown",
   "id": "c7b53c58-8f7c-4876-a704-fe8df91ce9b1",
   "metadata": {},
   "source": [
    "### Calculate energy density"
   ]
  },
  {
   "cell_type": "markdown",
   "id": "0ac3d721-827f-4222-9a48-fb04b3c7dc44",
   "metadata": {},
   "source": [
    "$$\\epsilon_{rad} = n_{HII}(E_d + 2E_i)$$"
   ]
  },
  {
   "cell_type": "markdown",
   "id": "d7aa2306-6567-4ede-a46c-89e7ddc17b58",
   "metadata": {},
   "source": [
    "### Equation 1"
   ]
  },
  {
   "cell_type": "markdown",
   "id": "a503599c-ad77-448e-95f5-febb99d448d9",
   "metadata": {},
   "source": [
    "$$\\frac{8\\gamma_2}{\\gamma_2 - 1}\\rho_1\\rho_2 T_2 - \\frac{4\\varepsilon_{\\rm{rad}}m_p}{k}\\rho_2 - 4\\rho_2^2T_2 - 4\\rho_1\\rho_2T_2 - \\frac{2\\gamma_1}{\\gamma_1 - 1}\\rho_1\\rho_2 T_1 - \\rho_1\\rho_2 T_1 - \\rho_1^2 T_1 = 0$$"
   ]
  },
  {
   "cell_type": "markdown",
   "id": "0732b252-fa88-448e-9e73-191c113c6d8c",
   "metadata": {},
   "source": [
    "### Equation 2"
   ]
  },
  {
   "cell_type": "markdown",
   "id": "b428a38e-8e7a-4d31-8e24-114e519aa6b8",
   "metadata": {},
   "source": [
    "$$\\frac{\\rho_1}{2 m_p}kT_1 - 2 \\frac{\\rho_2}{m_p}kT_2\n",
    "                - \\frac{\\rho_1^2}{\\rho_2}u_1^2 + \\rho_1 u_1^2 = 0$$"
   ]
  },
  {
   "cell_type": "code",
   "execution_count": 2,
   "id": "1ceb11db-f279-41b1-830e-d0c8270d6b29",
   "metadata": {
    "tags": []
   },
   "outputs": [],
   "source": [
    "gamma1 = 7/5\n",
    "gamma2 = 5/3\n",
    "\n",
    "u1 = u.Quantity(1e3, u.km/u.s)\n",
    "\n",
    "nH2 = u.Quantity(1e4, 1/u.cm**3)\n",
    "\n",
    "Ed = u.Quantity(4.5, u.eV)\n",
    "Ei = u.Quantity(13.6, u.eV)\n",
    "\n",
    "erad = nH2 * (Ed + 2*Ei)\n",
    "\n",
    "rho1 = 2* nH2 * m_p\n",
    "T1 = u.Quantity(10 , u.K)"
   ]
  },
  {
   "cell_type": "code",
   "execution_count": 3,
   "id": "05ad625e-547e-4cb2-bca3-db8562e46276",
   "metadata": {
    "tags": []
   },
   "outputs": [],
   "source": [
    "def system(p):\n",
    "    rho2 = u.Quantity(p[0], u.g/u.cm**3)\n",
    "    T2 = u.Quantity(p[1], u.K)\n",
    "    \n",
    "    eq1 = 8*gamma2*rho1*rho2*T2/(gamma2 - 1) - 4*erad*m_p*rho2/k_B - 4*rho2**2*T2 - 4*rho1*rho2*T2 - 2*gamma1*rho1*rho2*T1/(gamma1-1) - rho1*rho2*T1 - rho1**2*T1\n",
    "    eq2 = rho1*k_B*T1/(2*m_p) - 2*rho2*k_B*T2/m_p - rho1**2*u1**2/rho2 + rho1*u1**2\n",
    "    \n",
    "    return eq1.cgs.value, eq2.cgs.value"
   ]
  },
  {
   "cell_type": "code",
   "execution_count": 4,
   "id": "520ab4ed-e267-4034-9094-1a1cb00d7a51",
   "metadata": {
    "tags": []
   },
   "outputs": [],
   "source": [
    "rho, T = fsolve(system, (6.7e-20,1.13e7))\n",
    "rho = u.Quantity(rho, u.g/u.cm**3)\n",
    "T = u.Quantity(T, u.K)"
   ]
  },
  {
   "cell_type": "code",
   "execution_count": 5,
   "id": "3faf0d00-a0c6-4ff8-b0dc-0a50efca8aad",
   "metadata": {
    "tags": []
   },
   "outputs": [
    {
     "name": "stdout",
     "output_type": "stream",
     "text": [
      "13542611.780065093 K\n"
     ]
    }
   ],
   "source": [
    "print(T)"
   ]
  },
  {
   "cell_type": "code",
   "execution_count": 6,
   "id": "2b851090-3502-4f11-8dc5-b30ad2249163",
   "metadata": {
    "tags": []
   },
   "outputs": [
    {
     "name": "stdout",
     "output_type": "stream",
     "text": [
      "9.913776544555514e-20 g / cm3\n"
     ]
    }
   ],
   "source": [
    "print(rho)"
   ]
  },
  {
   "cell_type": "markdown",
   "id": "d149a027-31cc-46dd-b41a-da8bddd3c8aa",
   "metadata": {},
   "source": [
    "### Calculate n_e"
   ]
  },
  {
   "cell_type": "markdown",
   "id": "0ddb433c-db4c-43a9-877f-ede1ffe4052a",
   "metadata": {},
   "source": [
    "$$n_e = \\frac{\\rho_2}{m_p}$$"
   ]
  },
  {
   "cell_type": "code",
   "execution_count": 7,
   "id": "41d176e5-955f-4c66-a0e1-097c8fa5b24e",
   "metadata": {
    "tags": []
   },
   "outputs": [
    {
     "name": "stdout",
     "output_type": "stream",
     "text": [
      "59270.87528952485 1 / cm3\n"
     ]
    }
   ],
   "source": [
    "n_e = rho/m_p\n",
    "print(n_e.cgs)"
   ]
  },
  {
   "cell_type": "markdown",
   "id": "63396fab-7e8a-4a08-873e-fe5076011c3f",
   "metadata": {},
   "source": [
    "# DECIMALLLLLLL"
   ]
  },
  {
   "cell_type": "code",
   "execution_count": 8,
   "id": "b1c2717d-e100-4576-8e54-897f64bb42fe",
   "metadata": {
    "tags": []
   },
   "outputs": [],
   "source": [
    "m_p_d = Decimal(m_p.cgs.value)\n",
    "k_B_d = Decimal(k_B.cgs.value)\n",
    "\n",
    "gamma1 = Decimal(7)/Decimal(5)\n",
    "gamma2 = Decimal(5)/Decimal(3)\n",
    "\n",
    "u1 = Decimal(u.Quantity(1e3, u.km/u.s).cgs.value)\n",
    "\n",
    "nH2 = Decimal(u.Quantity(1e4, 1/u.cm**3).cgs.value)\n",
    "\n",
    "Ed = Decimal(u.Quantity(4.5, u.eV).cgs.value)\n",
    "Ei = Decimal(u.Quantity(13.6, u.eV).cgs.value)\n",
    "\n",
    "erad = nH2 * (Ed + Decimal(2)*Ei)\n",
    "\n",
    "rho1 = Decimal(2) * nH2 * m_p_d\n",
    "T1 = Decimal(u.Quantity(10 , u.K).cgs.value)"
   ]
  },
  {
   "cell_type": "code",
   "execution_count": 9,
   "id": "8506b56e-c249-4566-9fae-cb3fad029589",
   "metadata": {
    "tags": []
   },
   "outputs": [],
   "source": [
    "def system(p):\n",
    "    rho2 = Decimal(u.Quantity(p[0], u.g/u.cm**3).cgs.value)\n",
    "    T2 = Decimal(u.Quantity(p[1], u.K).cgs.value)\n",
    "    \n",
    "    eq1 = Decimal(8)*gamma2*rho1*rho2*T2/(gamma2 - Decimal(1)) - Decimal(4)*erad*m_p_d*rho2/k_B_d - Decimal(4)*rho2**Decimal(2)*T2 - Decimal(4)*rho1*rho2*T2 - Decimal(2)*gamma1*rho1*rho2*T1/(gamma1-Decimal(1)) - rho1*rho2*T1 - rho1**Decimal(2)*T1\n",
    "    eq2 = rho1*k_B_d*T1/(Decimal(2)*m_p_d) - Decimal(2)*rho2*k_B_d*T2/m_p_d - rho1**Decimal(2)*u1**Decimal(2)/rho2 + rho1*u1**Decimal(2)\n",
    "    \n",
    "    return eq1, eq2"
   ]
  },
  {
   "cell_type": "code",
   "execution_count": 26,
   "id": "36dad515-841a-41b7-85ee-9a8f8f33d11d",
   "metadata": {
    "tags": []
   },
   "outputs": [],
   "source": [
    "rho, T = fsolve(system, (6.7e-20,1.13e7))\n",
    "rho = u.Quantity(rho, u.g/u.cm**3)\n",
    "T = u.Quantity(T, u.K)"
   ]
  },
  {
   "cell_type": "code",
   "execution_count": 27,
   "id": "b6e453fc-6dd4-4627-a2ee-2dcfad8d6b4d",
   "metadata": {
    "tags": []
   },
   "outputs": [
    {
     "name": "stdout",
     "output_type": "stream",
     "text": [
      "14410025.798950298 K\n"
     ]
    }
   ],
   "source": [
    "print(T)"
   ]
  },
  {
   "cell_type": "code",
   "execution_count": 28,
   "id": "b4c5415c-826f-4bb9-8707-577149e4f7d8",
   "metadata": {
    "tags": []
   },
   "outputs": [
    {
     "name": "stdout",
     "output_type": "stream",
     "text": [
      "5.483687704810358e-20 g / cm3\n"
     ]
    }
   ],
   "source": [
    "print(rho)"
   ]
  },
  {
   "cell_type": "code",
   "execution_count": 29,
   "id": "6f3f9c40-0fbd-4b4f-b8a1-240ed05a4805",
   "metadata": {
    "tags": []
   },
   "outputs": [
    {
     "name": "stdout",
     "output_type": "stream",
     "text": [
      "32784.98043785472 1 / cm3\n"
     ]
    }
   ],
   "source": [
    "n_e = rho/m_p\n",
    "print(n_e.cgs)"
   ]
  },
  {
   "cell_type": "code",
   "execution_count": null,
   "id": "3f2100b9-c5f7-4602-9171-12e5b2741cf3",
   "metadata": {},
   "outputs": [],
   "source": []
  }
 ],
 "metadata": {
  "kernelspec": {
   "display_name": "Python 3 (ipykernel)",
   "language": "python",
   "name": "python3"
  },
  "language_info": {
   "codemirror_mode": {
    "name": "ipython",
    "version": 3
   },
   "file_extension": ".py",
   "mimetype": "text/x-python",
   "name": "python",
   "nbconvert_exporter": "python",
   "pygments_lexer": "ipython3",
   "version": "3.11.4"
  }
 },
 "nbformat": 4,
 "nbformat_minor": 5
}
