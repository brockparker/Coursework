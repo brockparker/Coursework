{
 "cells": [
  {
   "cell_type": "markdown",
   "id": "21bd2813-a7f5-40d7-917a-6e99a9c03f58",
   "metadata": {},
   "source": [
    "# HW 6"
   ]
  },
  {
   "cell_type": "markdown",
   "id": "48cd912c-b711-41cc-8d7b-41b3fcf2ed45",
   "metadata": {},
   "source": [
    "## Question 1"
   ]
  },
  {
   "cell_type": "code",
   "execution_count": 165,
   "id": "ee2d158c-44ad-454e-9a07-5c63db1264c1",
   "metadata": {
    "tags": []
   },
   "outputs": [],
   "source": [
    "import numpy as np\n",
    "import astropy.units as u\n",
    "from astropy.visualization import quantity_support\n",
    "from astropy.constants import G, M_sun\n",
    "import matplotlib.pyplot as plt\n",
    "from matplotlib.ticker import (\n",
    "    AutoLocator, AutoMinorLocator)"
   ]
  },
  {
   "cell_type": "markdown",
   "id": "cef07ab4-5d94-4e44-8cea-4ce9d58d839a",
   "metadata": {},
   "source": [
    "$$\\tau_{\\rm{mix}} \n",
    "        = \\left( \\frac{8 \\bar{R}^3}{G M} \\right)^{1/2}$$"
   ]
  },
  {
   "cell_type": "code",
   "execution_count": 166,
   "id": "b82fac74-a819-4355-b259-962fb0ccdc17",
   "metadata": {
    "tags": []
   },
   "outputs": [],
   "source": [
    "def mix(M, R, N):\n",
    "    tmix = (8 * R**3 / (G * M))**0.5\n",
    "    return tmix.cgs"
   ]
  },
  {
   "cell_type": "markdown",
   "id": "3806fece-bf93-44dd-a683-58b1d42a7912",
   "metadata": {},
   "source": [
    "$$\\tau_{\\rm{rel}}\n",
    "        = \\frac{1}{3(32G)^{1/2}} \\frac{1}{\\ln(N^{2/3} / 2)} \\left( \\frac{N^2 \\bar{R}^3}{M} \\right)^{1/2}$$"
   ]
  },
  {
   "cell_type": "code",
   "execution_count": 167,
   "id": "bb5648ee-8cd3-4749-a38c-991c0f549513",
   "metadata": {
    "tags": []
   },
   "outputs": [],
   "source": [
    "def rel(M, R, N):\n",
    "    first = 1 / (3 * (32 * G)**0.5)\n",
    "    second = 1 / (np.log(N**(2/3) / 2))\n",
    "    third = (N**2 * R**3 / M)**0.5\n",
    "    trel = first * second * third\n",
    "    return trel.cgs"
   ]
  },
  {
   "cell_type": "markdown",
   "id": "aca7bc9a-ecd5-486e-8c62-43d84a2e876c",
   "metadata": {
    "tags": []
   },
   "source": [
    "$$\\tau_{\\rm{evap}} \\approx 135~\\tau_{\\rm{rel}}$$"
   ]
  },
  {
   "cell_type": "code",
   "execution_count": 168,
   "id": "af0f3e5e-2b26-48e7-a85f-33c6d83046b8",
   "metadata": {
    "tags": []
   },
   "outputs": [],
   "source": [
    "def evap(trel):\n",
    "    tevap = 135 * trel\n",
    "    return tevap.cgs"
   ]
  },
  {
   "cell_type": "markdown",
   "id": "8000b190-eb8a-4b04-a11c-b23661ca5b91",
   "metadata": {
    "tags": []
   },
   "source": [
    "### Globular"
   ]
  },
  {
   "cell_type": "code",
   "execution_count": 169,
   "id": "399beced-f819-4e06-848d-30b7cbba54ad",
   "metadata": {
    "tags": []
   },
   "outputs": [
    {
     "name": "stdout",
     "output_type": "stream",
     "text": [
      "t_mix = 6.9293565625393505 Myr\n",
      "t_rel = 36.90203121315839 Myr\n",
      "t_evap = 4.981774213776382 Gyr\n"
     ]
    }
   ],
   "source": [
    "M = 1000 * M_sun\n",
    "R = 3 * u.pc\n",
    "N = 1000\n",
    "\n",
    "mixg = mix(M, R, N)\n",
    "relg = rel(M, R, N)\n",
    "evapg = evap(relg)\n",
    "\n",
    "print('t_mix =', mixg.to(u.Myr))\n",
    "print('t_rel =', relg.to(u.Myr))\n",
    "print('t_evap =', evapg.to(u.Gyr))"
   ]
  },
  {
   "cell_type": "markdown",
   "id": "91186e68-63d7-46a8-b7ee-4a69ee42f2ae",
   "metadata": {
    "tags": []
   },
   "source": [
    "### Open"
   ]
  },
  {
   "cell_type": "code",
   "execution_count": 170,
   "id": "927177d7-ac78-4d20-b5e7-34cefa1deee9",
   "metadata": {
    "tags": []
   },
   "outputs": [
    {
     "name": "stdout",
     "output_type": "stream",
     "text": [
      "t_mix = 4.217072109221399 Myr\n",
      "t_rel = 1.2582920630494943 Gyr\n",
      "t_evap = 169.86942851168172 Gyr\n"
     ]
    }
   ],
   "source": [
    "M = 1e5 * M_sun\n",
    "R = 10 * u.pc\n",
    "N = 1e5\n",
    "\n",
    "mixg = mix(M, R, N)\n",
    "relg = rel(M, R, N)\n",
    "evapg = evap(relg)\n",
    "\n",
    "print('t_mix =', mixg.to(u.Myr))\n",
    "print('t_rel =', relg.to(u.Gyr))\n",
    "print('t_evap =', evapg.to(u.Gyr))"
   ]
  },
  {
   "cell_type": "markdown",
   "id": "ee4d5183-62ff-4ad0-b152-fafe3d0b2dd0",
   "metadata": {
    "tags": []
   },
   "source": [
    "### Elliptical"
   ]
  },
  {
   "cell_type": "code",
   "execution_count": 171,
   "id": "b4a7e730-751a-4e16-a5bd-587fa7e80bf3",
   "metadata": {
    "tags": []
   },
   "outputs": [
    {
     "name": "stdout",
     "output_type": "stream",
     "text": [
      "t_mix = 133.35552922309978 Myr\n",
      "t_rel = 211717.9742889777 Gyr\n",
      "t_evap = 28581926.529011987 Gyr\n"
     ]
    }
   ],
   "source": [
    "M = 1e11 * M_sun\n",
    "R = 1e4 * u.pc\n",
    "N = 1e9\n",
    "\n",
    "mixg = mix(M, R, N)\n",
    "relg = rel(M, R, N)\n",
    "evapg = evap(relg)\n",
    "\n",
    "print('t_mix =', mixg.to(u.Myr))\n",
    "print('t_rel =', relg.to(u.Gyr))\n",
    "print('t_evap =', evapg.to(u.Gyr))"
   ]
  },
  {
   "cell_type": "markdown",
   "id": "d91c7ca7-675e-4a39-8eed-7dcf7d0a3bdf",
   "metadata": {},
   "source": [
    "$$R = \\left(\\frac{3V}{4 \\pi}\\right)^{1/3}$$"
   ]
  },
  {
   "cell_type": "markdown",
   "id": "64e0b625-1036-4227-a952-af64d14264da",
   "metadata": {},
   "source": [
    "## Question 2"
   ]
  },
  {
   "cell_type": "code",
   "execution_count": 172,
   "id": "3f553d18-e366-49c1-8b19-7453245a5213",
   "metadata": {
    "tags": []
   },
   "outputs": [
    {
     "name": "stdout",
     "output_type": "stream",
     "text": [
      "0.006203504908994002 pc\n"
     ]
    }
   ],
   "source": [
    "V = 1e-6 * u.pc**3\n",
    "\n",
    "R = (3 * V / (4 * np.pi))**(1/3)\n",
    "print(R.to(u.pc))"
   ]
  },
  {
   "cell_type": "markdown",
   "id": "1f2b268c-e29b-4397-b6b0-1af460eaf271",
   "metadata": {},
   "source": [
    "$$\\tau_{\\rm{evap}} \n",
    "            = \\frac{135}{3(32G)^{1/2}} \\frac{1}{\\ln\\left(\\left(\\frac{M}{\\sqrt{8}m}\\right)^{2/3}\\right)} \\left( \\frac{M \\bar{R}^3}{m^2} \\right)^{1/2}$$"
   ]
  },
  {
   "cell_type": "code",
   "execution_count": 173,
   "id": "da490e6e-d188-4051-bde3-bb14a7348989",
   "metadata": {
    "tags": []
   },
   "outputs": [],
   "source": [
    "def evap2(M, R, m):\n",
    "    first = 135 / (3 * (32 * G)**0.5)\n",
    "    second = 1 / (np.log((M/m)**(2/3) / 2))\n",
    "    third = ((M/m) * R**3 / m)**0.5\n",
    "    trel = first * second * third\n",
    "    return trel.cgs"
   ]
  },
  {
   "cell_type": "code",
   "execution_count": 224,
   "id": "9fac702b-504d-43f7-b1a2-c88c2e6818e9",
   "metadata": {
    "tags": []
   },
   "outputs": [],
   "source": [
    "mass = np.linspace(0.1, 100, 10) * M_sun\n",
    "M = 4.15e6 * M_sun\n",
    "R = 0.006203504908994002 * u.pc\n",
    "\n",
    "N_plot = M / mass\n",
    "\n",
    "evap_plot = evap2(M, R, mass)"
   ]
  },
  {
   "cell_type": "code",
   "execution_count": 225,
   "id": "fbf946f4-aeb2-4783-93d2-83dc5e063c0c",
   "metadata": {
    "tags": []
   },
   "outputs": [],
   "source": [
    "def M2N(m):\n",
    "    m = u.Quantity(m, u.M_sun)\n",
    "    N = M / m\n",
    "    return N.cgs.value\n",
    "\n",
    "def N2M(N):\n",
    "    m = M / N\n",
    "    return m.to(u.M_sun).value"
   ]
  },
  {
   "cell_type": "code",
   "execution_count": 226,
   "id": "bad2a377-b30e-484c-bf14-14c15bf1d39a",
   "metadata": {
    "tags": []
   },
   "outputs": [
    {
     "data": {
      "text/latex": [
       "$[1.9884099 \\times 10^{29},~2.2270191 \\times 10^{31},~4.434154 \\times 10^{31},~6.641289 \\times 10^{31},~8.8484239 \\times 10^{31},~1.1055559 \\times 10^{32},~1.3262694 \\times 10^{32},~1.5469829 \\times 10^{32},~1.7676964 \\times 10^{32},~1.9884099 \\times 10^{32}] \\; \\mathrm{kg}$"
      ],
      "text/plain": [
       "<Quantity [1.98840987e+29, 2.22701906e+31, 4.43415401e+31, 6.64128897e+31,\n",
       "           8.84842392e+31, 1.10555589e+32, 1.32626938e+32, 1.54698288e+32,\n",
       "           1.76769638e+32, 1.98840987e+32] kg>"
      ]
     },
     "execution_count": 226,
     "metadata": {},
     "output_type": "execute_result"
    }
   ],
   "source": [
    "mass"
   ]
  },
  {
   "cell_type": "code",
   "execution_count": 227,
   "id": "8f41996c-d760-4c43-9aaa-5f9bd9598e6e",
   "metadata": {
    "tags": []
   },
   "outputs": [
    {
     "data": {
      "text/plain": [
       "array([41500000.        ,   370535.71428571,   186098.65470852,\n",
       "         124251.49700599,    93258.42696629,    74640.28776978,\n",
       "          62218.89055472,    53341.90231362,    46681.6647919 ,\n",
       "          41500.        ])"
      ]
     },
     "execution_count": 227,
     "metadata": {},
     "output_type": "execute_result"
    }
   ],
   "source": [
    "M2N(mass)"
   ]
  },
  {
   "cell_type": "code",
   "execution_count": 242,
   "id": "f5fd6d0b-f9ec-4aa6-b928-8723cb31dbfa",
   "metadata": {
    "tags": []
   },
   "outputs": [
    {
     "data": {
      "image/png": "[encoded data removed]",
      "text/plain": [
       "<Figure size 640x480 with 1 Axes>"
      ]
     },
     "metadata": {},
     "output_type": "display_data"
    }
   ],
   "source": [
    "with quantity_support():\n",
    "    fig, ax1 = plt.subplots(constrained_layout=True)\n",
    "\n",
    "    ax1.plot(mass.to(u.M_sun).value, evap_plot.to(u.Gyr).value)\n",
    "    ax1.set_yscale('log')\n",
    "    ax1.set_ylabel('Evaporation Timescale (Gyr)')\n",
    "    ax1.set_xlabel('Average Object Mass ($M_\\odot$)')\n",
    "    #ax1.set_xlim(0.1, 100)\n",
    "    ax1.set_xscale('log')\n",
    "\n",
    "    secax = ax1.secondary_xaxis('top', functions=(M2N, N2M))\n",
    "    #secax.xaxis.set_minor_locator(AutoMinorLocator())\n",
    "    #secax.set_xscale('log')\n",
    "    secax.set_xlabel('Total Number of Objects')\n",
    "    \n",
    "    ax1.plot(M.to(u.M_sun)/np.max(N_plot), np.max(evap_plot).to(u.Gyr), ls='', marker='*', markersize=10, label='Maximum Evaporation Time: {:.3f}'.format(np.max(evap_plot).to(u.Gyr)))\n",
    "    \n",
    "    plt.legend(loc = 'upper right')\n",
    "    \n",
    "    plt.savefig('HW6_2.png', dpi = 250)\n",
    "    plt.show()"
   ]
  },
  {
   "cell_type": "code",
   "execution_count": null,
   "id": "4a4fcf79-8089-4038-acbd-fff17e28aa2d",
   "metadata": {
    "tags": []
   },
   "outputs": [],
   "source": [
    "print(np.max(evap_plot).to(u.Gyr))"
   ]
  },
  {
   "cell_type": "code",
   "execution_count": null,
   "id": "fcf07166-c590-4c16-9ee9-2cf8d540206f",
   "metadata": {},
   "outputs": [],
   "source": []
  }
 ],
 "metadata": {
  "kernelspec": {
   "display_name": "Python 3 (ipykernel)",
   "language": "python",
   "name": "python3"
  },
  "language_info": {
   "codemirror_mode": {
    "name": "ipython",
    "version": 3
   },
   "file_extension": ".py",
   "mimetype": "text/x-python",
   "name": "python",
   "nbconvert_exporter": "python",
   "pygments_lexer": "ipython3",
   "version": "3.11.4"
  }
 },
 "nbformat": 4,
 "nbformat_minor": 5
}
