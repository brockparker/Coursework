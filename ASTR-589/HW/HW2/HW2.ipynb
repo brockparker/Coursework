{
 "cells": [
  {
   "cell_type": "markdown",
   "id": "e82c520b-a951-40dc-983f-011b998b366b",
   "metadata": {},
   "source": [
    "# ASTR-589 HW2"
   ]
  },
  {
   "cell_type": "markdown",
   "id": "ec986315-0de9-4844-86d1-655bad21e07d",
   "metadata": {},
   "source": [
    "We showed in the homework that the ionization fraction inside an HII region is given by the equation\n",
    "\n",
    "$$\n",
    "0 = \\frac{(1-x)e^{-(1-x)n_H \\sigma_0 r}}{x^2} \\frac{2\\pi^2 R^2 \\sigma_0 k^3 T^3}{h^3 c^2 r^2 n_H \\alpha(T)} \\int_{u_0}^{\\infty} \\frac{u^2}{e^u - 1}~du -1\n",
    "$$\n",
    "\n",
    "We are given that $n_H = 10~\\rm{cm}^{-3}$, $\\sigma_0 = 6.3\\times 10^{-18}~\\rm{cm}^2$, and that $\\alpha(T=10000\\rm{K}) = 2.59\\times10^{-13}~\\rm{cm}^3~\\rm{s}^{-1}$ inside the nebula."
   ]
  },
  {
   "cell_type": "markdown",
   "id": "6ce36013-5008-4cd1-bcd5-4a65e51d79db",
   "metadata": {},
   "source": [
    "We can rewrite this function as a second order polynomial.\n",
    "\n",
    "$$\n",
    "0 = (1-x)e^{-(1-x)n_H \\sigma_0 r} \\frac{2\\pi^2 R^2 \\sigma_0 k^3 T^3}{h^3 c^2 r^2 n_H \\alpha(T)} \\int_{u_0}^{\\infty} \\frac{u^2}{e^u - 1}~du - x^2\n",
    "$$\n",
    "\n",
    "We can then solve this function using polynomial root solving."
   ]
  },
  {
   "cell_type": "code",
   "execution_count": 216,
   "id": "a202dd91-2c79-411b-af37-71cf67cddc93",
   "metadata": {},
   "outputs": [],
   "source": [
    "import numpy as np\n",
    "from scipy.integrate import quad\n",
    "from scipy.optimize import fsolve, bisect, brentq, brenth, ridder, newton, root\n",
    "import astropy.units as u\n",
    "from astropy.constants import c, h, k_B\n",
    "import matplotlib.pyplot as plt"
   ]
  },
  {
   "cell_type": "markdown",
   "id": "bffe3353-c2b1-4d16-9818-701f237dafc5",
   "metadata": {},
   "source": [
    "First, let us define the entire function as a product of three separate functions."
   ]
  },
  {
   "cell_type": "code",
   "execution_count": 335,
   "id": "7a600d93-a884-456a-a925-df281bf19f75",
   "metadata": {},
   "outputs": [],
   "source": [
    "def unsolved(x, r, R, T, nH, s0, aT, l0):\n",
    "    '''\n",
    "    Function define the ionization fraction around a hot star in an HI region. Must be solved numerically.\n",
    "    '''\n",
    "    depend_val = depend(x, r, nH, s0)\n",
    "    # BP Calculating all x-dependent terms.\n",
    "    coeff_val = coeff(r, R, T, nH, s0, aT)\n",
    "    # BP Calculating all constant coefficient terms.\n",
    "    integ_val = integ(l0, T)\n",
    "    # BP Numerically integrating the integrand.\n",
    "    # print('x:', x)\n",
    "    # print('val:', first * second * third - 1, '\\n')\n",
    "    return depend_val * coeff_val * integ_val - x**2"
   ]
  },
  {
   "cell_type": "markdown",
   "id": "eb619c9b-ab0a-4351-994c-6f3d1101d632",
   "metadata": {},
   "source": [
    "Next, lets define the first of the three functions"
   ]
  },
  {
   "cell_type": "code",
   "execution_count": 336,
   "id": "02dc1a59-a3d7-4a1f-8c35-718ba90288b8",
   "metadata": {},
   "outputs": [],
   "source": [
    "def depend(x, r, nH, s0):\n",
    "    '''\n",
    "    Function to define all x-dependent terms in the ionization fraction equation.\n",
    "    '''\n",
    "    expo = np.exp(-(1-x)*(nH * s0 * r).cgs)\n",
    "    # BP Calculating exponential part.\n",
    "    \n",
    "    return ((1-x) * expo).cgs"
   ]
  },
  {
   "cell_type": "code",
   "execution_count": 337,
   "id": "05e6c65b-0c9b-4176-9a83-75d87b9440f8",
   "metadata": {},
   "outputs": [],
   "source": [
    "def coeff(r, R, T, nH, s0, aT):\n",
    "    '''\n",
    "    Function to calculate the constant coefficient terms in the ionization fraction equation.\n",
    "    '''\n",
    "    numer = 2 * np.pi**2 * R**2 * s0 * k_B**3 * T**3\n",
    "    # BP Calculating numerator.\n",
    "    denom = h**3 * c**2 * r**2 * nH * aT\n",
    "    # BP Calculating denominator.\n",
    "    \n",
    "    return (numer / denom).cgs"
   ]
  },
  {
   "cell_type": "code",
   "execution_count": 338,
   "id": "c0f95061-0425-43f3-a1b5-fb5bd1ad063a",
   "metadata": {},
   "outputs": [],
   "source": [
    "def integ(l0, T):\n",
    "    '''\n",
    "    Function to numerically integrate the integral in the ionization fraction equation.\n",
    "    '''\n",
    "    v0 = l0.to(u.Hz, equivalencies=u.spectral())\n",
    "    # BP Converting the ionization wavelength into ionization frequency.\n",
    "    u0 = h * v0 / (k_B * T)\n",
    "    u0 = u0.cgs\n",
    "    # BP Calculate the lower integration limit.\n",
    "    \n",
    "    def integrand(u):\n",
    "    # BP Defining inner integrand to numerically solve.\n",
    "        return u**2 / (np.exp(u) - 1)\n",
    "    \n",
    "    I, _ = quad(integrand, u0, u0*100)\n",
    "    # BP Numerically integrate from u0 to infinity.\n",
    "    \n",
    "    return I"
   ]
  },
  {
   "cell_type": "markdown",
   "id": "e839f8fa-07d0-4ae0-ab06-afc928031341",
   "metadata": {},
   "source": [
    "Now we need to actually solve the defined equation, which we can do by using a root solving tool."
   ]
  },
  {
   "cell_type": "code",
   "execution_count": 339,
   "id": "721e7f6e-87ec-434c-9293-7260a6486d87",
   "metadata": {},
   "outputs": [],
   "source": [
    "def ion_frac(r, R, T, nH=10/(u.cm**3), s0=6.3e-18*u.cm**2, aT=2.59e-13*u.cm**3/u.s, l0=912*u.AA):\n",
    "    '''\n",
    "    Function to calculate the ionization fraction at a given radius from a hot ionizing star. Can be looped over a grid of radii.\n",
    "    '''\n",
    "    func = lambda x: unsolved(x, r, R, T, nH, s0, aT, l0).cgs\n",
    "    # BP Defining function will all proper variables.\n",
    "    \n",
    "    upper = 1\n",
    "    lower = 1e-5\n",
    "    \n",
    "    # if r>14.5*u.pc:\n",
    "    #     start = 0\n",
    "    # else:\n",
    "    #     start = 1\n",
    "    \n",
    "    zero = fsolve(func, [0.99])\n",
    "    # Solving for where the function equals 0.\n",
    "    \n",
    "    # print(func(lower), func(upper))\n",
    "    # zero = root(func, 0.01, method='hybr', tol = 1e-10).x\n",
    "    \n",
    "    p = poly(x, r, R, T, nH, s0, aT, l0)\n",
    "    zero = np.roots(p)\n",
    "    \n",
    "    return zero"
   ]
  },
  {
   "cell_type": "markdown",
   "id": "5f51d8a7-a7ea-47e2-ae45-15210a765c59",
   "metadata": {},
   "source": [
    "We can now calculate the ionization fraction over the entire nebula."
   ]
  },
  {
   "cell_type": "markdown",
   "id": "c0886a68-f993-4d48-98bb-9bc11fd6c079",
   "metadata": {},
   "source": [
    "## First Star\n",
    "$T = 45000~\\rm{K}$\n",
    "\n",
    "$R = 11~R_\\odot$"
   ]
  },
  {
   "cell_type": "code",
   "execution_count": 340,
   "id": "6ce34d22-30bf-4aa7-9ba8-2d5470c42aa6",
   "metadata": {
    "tags": []
   },
   "outputs": [
    {
     "data": {
      "text/plain": [
       "Text(0.5, 1.0, 'Ionization Fraction')"
      ]
     },
     "execution_count": 340,
     "metadata": {},
     "output_type": "execute_result"
    },
    {
     "data": {
      "image/png": "[encoded data removed]",
      "text/plain": [
       "<Figure size 640x480 with 1 Axes>"
      ]
     },
     "metadata": {},
     "output_type": "display_data"
    }
   ],
   "source": [
    "T = 45000*u.K\n",
    "# BP Stellar temperature.\n",
    "R = 11*u.R_sun\n",
    "# BP Stellar radius.\n",
    "\n",
    "rs = np.linspace(0, 30, 50)*u.pc\n",
    "# BP Defining space to calculate ionization fraction in parsecs as Stromgren sphere is ~20 pc.\n",
    "\n",
    "ionization = []\n",
    "# BP Empty array to store ionizations.\n",
    "\n",
    "for r in rs:\n",
    "    ionization.append(ion_frac(r, R, T))\n",
    "\n",
    "_ = plt.plot(rs, ionization)\n",
    "plt.xlabel('Distance (pc)')\n",
    "plt.ylabel('x')\n",
    "plt.title('Ionization Fraction')"
   ]
  },
  {
   "cell_type": "code",
   "execution_count": 334,
   "id": "d98a547c-c43e-4c09-9401-27cb72f52bd2",
   "metadata": {},
   "outputs": [
    {
     "data": {
      "text/plain": [
       "[array([0.99]),\n",
       " array([0.99999979]),\n",
       " array([0.99999914]),\n",
       " array([0.99999807]),\n",
       " array([0.99999657]),\n",
       " array([0.99]),\n",
       " array([0.98992134]),\n",
       " array([0.9920159]),\n",
       " array([0.99351617]),\n",
       " array([0.99463554]),\n",
       " array([0.9954977]),\n",
       " array([0.99617896]),\n",
       " array([0.99672877]),\n",
       " array([0.9971805]),\n",
       " array([0.99755742]),\n",
       " array([0.99787626]),\n",
       " array([0.99814934]),\n",
       " array([0.99838598]),\n",
       " array([0.99859341]),\n",
       " array([0.99877743]),\n",
       " array([0.99894288]),\n",
       " array([0.99909418]),\n",
       " array([0.99923605]),\n",
       " array([0.99937543]),\n",
       " array([0.99953358]),\n",
       " array([0.99968977]),\n",
       " array([0.99973964]),\n",
       " array([0.99978474]),\n",
       " array([0.99982616]),\n",
       " array([0.99986166]),\n",
       " array([0.99989474]),\n",
       " array([0.99992488]),\n",
       " array([0.99995225]),\n",
       " array([0.99997735]),\n",
       " array([1.00000011]),\n",
       " array([1.00002089]),\n",
       " array([1.00004001]),\n",
       " array([1.00005766]),\n",
       " array([1.00007308]),\n",
       " array([1.0000885]),\n",
       " array([1.00010166]),\n",
       " array([1.00011506]),\n",
       " array([1.00012674]),\n",
       " array([1.0001377]),\n",
       " array([1.00014727]),\n",
       " array([1.00015709]),\n",
       " array([1.00016477]),\n",
       " array([1.00017384]),\n",
       " array([1.00018126]),\n",
       " array([1.00018822])]"
      ]
     },
     "execution_count": 334,
     "metadata": {},
     "output_type": "execute_result"
    }
   ],
   "source": [
    "ionization"
   ]
  },
  {
   "cell_type": "markdown",
   "id": "dacafcdb-9ca9-48df-b4df-b291683cb8b0",
   "metadata": {},
   "source": [
    "# Star 2"
   ]
  },
  {
   "cell_type": "code",
   "execution_count": 121,
   "id": "c2d09efd-69c5-487c-a61d-3477806af410",
   "metadata": {},
   "outputs": [
    {
     "data": {
      "text/plain": [
       "[<matplotlib.lines.Line2D at 0x1d7651d61f0>]"
      ]
     },
     "execution_count": 121,
     "metadata": {},
     "output_type": "execute_result"
    },
    {
     "data": {
      "image/png": "[encoded data removed]",
      "text/plain": [
       "<Figure size 640x480 with 1 Axes>"
      ]
     },
     "metadata": {},
     "output_type": "display_data"
    }
   ],
   "source": [
    "T = 40000*u.K\n",
    "# BP Stellar temperature.\n",
    "R = 20*u.R_sun\n",
    "# BP Stellar radius.\n",
    "\n",
    "rs = np.linspace(0, 40, 50)*u.pc\n",
    "# BP Defining space to calculate ionization fraction in parsecs as Stromgren sphere is ~20 pc.\n",
    "\n",
    "ionization = []\n",
    "# BP Empty array to store ionizations.\n",
    "\n",
    "for r in rs:\n",
    "    ionization.append(ion_frac(r, R, T))\n",
    "    \n",
    "plt.plot(rs, ionization)"
   ]
  },
  {
   "cell_type": "code",
   "execution_count": null,
   "id": "405eb491-191d-4b1e-8474-69acaaa59a95",
   "metadata": {},
   "outputs": [],
   "source": []
  },
  {
   "cell_type": "code",
   "execution_count": null,
   "id": "6e773995-2ee4-479c-a188-ea52579bbbab",
   "metadata": {},
   "outputs": [],
   "source": []
  },
  {
   "cell_type": "code",
   "execution_count": 293,
   "id": "b3cee97f-0f78-4c3d-a9fb-2e1cb6ed01e9",
   "metadata": {},
   "outputs": [
    {
     "data": {
      "text/latex": [
       "$14.906 \\; \\mathrm{pc}$"
      ],
      "text/plain": [
       "<Quantity 14.906 pc>"
      ]
     },
     "execution_count": 293,
     "metadata": {},
     "output_type": "execute_result"
    }
   ],
   "source": [
    "2900*0.00514*u.pc"
   ]
  },
  {
   "cell_type": "code",
   "execution_count": 294,
   "id": "7a211bd5-b642-4043-85fd-ff7bee710a74",
   "metadata": {},
   "outputs": [
    {
     "data": {
      "text/latex": [
       "$17.99 \\; \\mathrm{pc}$"
      ],
      "text/plain": [
       "<Quantity 17.99 pc>"
      ]
     },
     "execution_count": 294,
     "metadata": {},
     "output_type": "execute_result"
    }
   ],
   "source": [
    "3500*0.00514*u.pc"
   ]
  },
  {
   "cell_type": "code",
   "execution_count": 299,
   "id": "6faecc1d-bdc0-41c5-8c70-4ab8d90b126f",
   "metadata": {},
   "outputs": [
    {
     "data": {
      "text/plain": [
       "(-10.0, 0.0)"
      ]
     },
     "execution_count": 299,
     "metadata": {},
     "output_type": "execute_result"
    },
    {
     "data": {
      "image/png": "[encoded data removed]",
      "text/plain": [
       "<Figure size 640x480 with 1 Axes>"
      ]
     },
     "metadata": {},
     "output_type": "display_data"
    }
   ],
   "source": [
    "r = 14*u.pc\n",
    "x = np.linspace(1e-2, 1, 1000)\n",
    "\n",
    "test = unsolved(x, r, R, T, nH=10/(u.cm**3), s0=6.3e-18*u.cm**2, aT=2.59e-13*u.cm**3/u.s, l0=912*u.AA)\n",
    "plt.plot(x, test)\n",
    "plt.ylim(-10, 0)"
   ]
  },
  {
   "cell_type": "code",
   "execution_count": null,
   "id": "1a108ed6-944b-49e9-bc6e-37a430365bbf",
   "metadata": {},
   "outputs": [],
   "source": []
  }
 ],
 "metadata": {
  "kernelspec": {
   "display_name": "Python 3 (ipykernel)",
   "language": "python",
   "name": "python3"
  },
  "language_info": {
   "codemirror_mode": {
    "name": "ipython",
    "version": 3
   },
   "file_extension": ".py",
   "mimetype": "text/x-python",
   "name": "python",
   "nbconvert_exporter": "python",
   "pygments_lexer": "ipython3",
   "version": "3.9.12"
  }
 },
 "nbformat": 4,
 "nbformat_minor": 5
}
