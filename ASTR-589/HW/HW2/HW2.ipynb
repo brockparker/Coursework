{
 "cells": [
  {
   "cell_type": "markdown",
   "id": "e82c520b-a951-40dc-983f-011b998b366b",
   "metadata": {},
   "source": [
    "# ASTR-589 HW2\n",
    "## Numerically solve the balance equation to calculate the Stromgren radius."
   ]
  },
  {
   "cell_type": "markdown",
   "id": "ec986315-0de9-4844-86d1-655bad21e07d",
   "metadata": {},
   "source": [
    "We showed in the homework that the ionization fraction inside an HII region is given by the equation\n",
    "\n",
    "$$\n",
    "0 = \\frac{2(1-x) R^2 \\sigma_0 \\nu_0^3 \\pi^2 e^{-(1-x) n_H \\sigma_0 r}}{n_H \\alpha(T) r^2 c^2} \\int_{u_0}^{\\infty} \\frac{1}{u} \\frac{1}{e^u-1}~du - x^2\n",
    "$$\n",
    "\n",
    "We are given that $n_H = 10~\\rm{cm}^{-3}$, $\\sigma_0 = 6.3\\times 10^{-18}~\\rm{cm}^2$, and that $\\alpha(T=10000\\rm{K}) = 2.59\\times10^{-13}~\\rm{cm}^3~\\rm{s}^{-1}$ inside the nebula."
   ]
  },
  {
   "cell_type": "code",
   "execution_count": 9,
   "id": "a202dd91-2c79-411b-af37-71cf67cddc93",
   "metadata": {
    "tags": []
   },
   "outputs": [],
   "source": [
    "import numpy as np\n",
    "from scipy.integrate import quad\n",
    "from scipy.optimize import fsolve, root, minimize, least_squares\n",
    "import astropy.units as u\n",
    "import scipy\n",
    "from astropy.constants import c, h, k_B\n",
    "import matplotlib.pyplot as plt"
   ]
  },
  {
   "cell_type": "markdown",
   "id": "bffe3353-c2b1-4d16-9818-701f237dafc5",
   "metadata": {},
   "source": [
    "First, let us define the entire function as a product of three separate functions."
   ]
  },
  {
   "cell_type": "code",
   "execution_count": 10,
   "id": "7a600d93-a884-456a-a925-df281bf19f75",
   "metadata": {
    "tags": []
   },
   "outputs": [],
   "source": [
    "def unsolved(x, r, R, T, nH, s0, aT, l0):\n",
    "    '''\n",
    "    Function define the ionization fraction around a hot star in an HI region. Must be solved numerically.\n",
    "    '''\n",
    "    depend_val = depend(x, r, nH, s0)\n",
    "    # BP Calculating all x-dependent terms.\n",
    "    coeff_val = const(r, R, T, nH, s0, aT, l0)\n",
    "    # BP Calculating all constant coefficient terms.\n",
    "    integ_val = integ(l0, T)\n",
    "    # BP Numerically integrating the integrand.\n",
    "    \n",
    "    return depend_val * coeff_val * integ_val - x**2"
   ]
  },
  {
   "cell_type": "markdown",
   "id": "eb619c9b-ab0a-4351-994c-6f3d1101d632",
   "metadata": {},
   "source": [
    "Next, lets define the first of the three functions that contains all of the x dependent terms."
   ]
  },
  {
   "cell_type": "code",
   "execution_count": 65,
   "id": "02dc1a59-a3d7-4a1f-8c35-718ba90288b8",
   "metadata": {
    "tags": []
   },
   "outputs": [],
   "source": [
    "def depend(x, r, nH, s0):\n",
    "    '''\n",
    "    Function to define all x-dependent terms in the ionization fraction equation.\n",
    "    '''\n",
    "    expo = np.exp(-(1-x)*(nH * s0 * r).cgs)\n",
    "    # BP Calculating exponential part.\n",
    "    \n",
    "    return ((1-x) * expo).cgs"
   ]
  },
  {
   "cell_type": "markdown",
   "id": "cd91fe8f-7592-4b7a-b731-2d963e777b6a",
   "metadata": {},
   "source": [
    "Next we define the constant terms."
   ]
  },
  {
   "cell_type": "code",
   "execution_count": 66,
   "id": "05e6c65b-0c9b-4176-9a83-75d87b9440f8",
   "metadata": {
    "tags": []
   },
   "outputs": [],
   "source": [
    "def const(r, R, T, nH, s0, aT, l0):\n",
    "    '''\n",
    "    Function to calculate the constant coefficient terms in the ionization fraction equation.\n",
    "    '''\n",
    "    v0 = l0.to(u.Hz, equivalencies=u.spectral())\n",
    "    # BP Calculating ionization frequency limit.\n",
    "    numer = 2 * np.pi**2 * R**2 * s0 * v0**3\n",
    "    # BP Calculating numerator.\n",
    "    denom = c**2 * r**2 * nH * aT\n",
    "    # BP Calculating denominator.\n",
    "    \n",
    "    return (numer / denom).cgs"
   ]
  },
  {
   "cell_type": "markdown",
   "id": "50e61712-c657-44be-8289-f4286c58e26a",
   "metadata": {},
   "source": [
    "We can then also calculate the value of the integral."
   ]
  },
  {
   "cell_type": "code",
   "execution_count": 67,
   "id": "c0f95061-0425-43f3-a1b5-fb5bd1ad063a",
   "metadata": {
    "tags": []
   },
   "outputs": [],
   "source": [
    "def integ(l0, T):\n",
    "    '''\n",
    "    Function to numerically integrate the integral in the ionization fraction equation.\n",
    "    '''\n",
    "    v0 = l0.to(u.Hz, equivalencies=u.spectral())\n",
    "    # BP Converting the ionization wavelength into ionization frequency.\n",
    "    u0 = h * v0 / (k_B * T)\n",
    "    u0 = u0.cgs\n",
    "    # BP Calculate the lower integration limit.\n",
    "    \n",
    "    def integrand(u):\n",
    "    # BP Defining inner integrand to numerically solve.\n",
    "        return 1 /( u * ( np.exp(u) - 1))\n",
    "    \n",
    "    I, _ = quad(integrand, u0, u0*100)\n",
    "    # BP Numerically integrate from u0 to infinity.\n",
    "    \n",
    "    return I"
   ]
  },
  {
   "cell_type": "markdown",
   "id": "fd7db8d1-f412-45b3-a2b4-0e3ebe108a90",
   "metadata": {},
   "source": [
    "In order to numerically solve the equation, we can also define the derivative to pass to the solver."
   ]
  },
  {
   "cell_type": "code",
   "execution_count": 105,
   "id": "1995596d-e01d-4b35-8bb8-db0597757e63",
   "metadata": {},
   "outputs": [],
   "source": [
    "def deriv(x, r, R, T, nH, s0, aT, l0):\n",
    "    '''\n",
    "    The derivative of the unsolved function wrt x.\n",
    "    '''\n",
    "    depend_val = -np.exp(-(1-x)*(nH * s0 * r).cgs) + (1-x) * np.exp(-(1-x)*(nH * s0 * r).cgs) * (nH * s0 * r).cgs\n",
    "    # BP Calculating all x-dependent terms.\n",
    "    coeff_val = const(r, R, T, nH, s0, aT, l0)\n",
    "    # BP Calculating all constant coefficient terms.\n",
    "    integ_val = integ(l0, T)\n",
    "    # BP Numerically integrating the integrand.\n",
    "    \n",
    "    return depend_val * coeff_val * integ_val - 2*x"
   ]
  },
  {
   "cell_type": "markdown",
   "id": "e839f8fa-07d0-4ae0-ab06-afc928031341",
   "metadata": {},
   "source": [
    "Now we need to actually solve the defined equation, which we can do by using a root solving tool."
   ]
  },
  {
   "cell_type": "code",
   "execution_count": 106,
   "id": "721e7f6e-87ec-434c-9293-7260a6486d87",
   "metadata": {
    "tags": []
   },
   "outputs": [],
   "source": [
    "def ion_frac(r, R, T, nH=10/(u.cm**3), s0=6.3e-18*u.cm**2, aT=2.59e-13*u.cm**3/u.s, l0=912*u.AA):\n",
    "    '''\n",
    "    Function to calculate the ionization fraction at a given radius from a hot ionizing star. Can be looped over a grid of radii.\n",
    "    '''\n",
    "    func = lambda x: unsolved(x, r, R, T, nH, s0, aT, l0).cgs\n",
    "    func_prime = lambda x: deriv(x, r, R, T, nH, s0, aT, l0).cgs\n",
    "    # BP Defining function will all proper variables.\n",
    "        \n",
    "    zero = root(func, 1, jac = func_prime, method = 'hybr').x\n",
    "    #zero = fsolve(func, [1], fprime = func_prime)\n",
    "    # zero = least_squares(func, [1]).x\n",
    "    # Solving for where the function equals 0.\n",
    "    \n",
    "    #p = poly(x, r, R, T, nH, s0, aT, l0)\n",
    "    #zero = np.roots(p)\n",
    "    \n",
    "    return zero"
   ]
  },
  {
   "cell_type": "markdown",
   "id": "5f51d8a7-a7ea-47e2-ae45-15210a765c59",
   "metadata": {},
   "source": [
    "We can now calculate the ionization fraction over the entire nebula."
   ]
  },
  {
   "cell_type": "markdown",
   "id": "c0886a68-f993-4d48-98bb-9bc11fd6c079",
   "metadata": {},
   "source": [
    "## First Star\n",
    "$T = 45000~\\rm{K}$\n",
    "\n",
    "$R = 11~R_\\odot$"
   ]
  },
  {
   "cell_type": "code",
   "execution_count": 114,
   "id": "d048aded-c225-4bbf-93e3-d3e671056137",
   "metadata": {
    "tags": []
   },
   "outputs": [],
   "source": [
    "T1 = 45000*u.K\n",
    "# BP Stellar temperature.\n",
    "R1 = 11*u.R_sun\n",
    "# BP Stellar radius.\n",
    "\n",
    "rs = np.linspace(1, 40, 500)*u.pc\n",
    "# BP Defining space to calculate ionization fraction in parsecs as Stromgren sphere is ~20 pc.\n",
    "   \n",
    "ionization1 = [ion_frac(r, R1, T1) for r in rs]"
   ]
  },
  {
   "cell_type": "markdown",
   "id": "dacafcdb-9ca9-48df-b4df-b291683cb8b0",
   "metadata": {},
   "source": [
    "# Star 2\n",
    "$T = 40000~\\rm{K}$\n",
    "\n",
    "$R = 20~R_\\odot$"
   ]
  },
  {
   "cell_type": "code",
   "execution_count": 115,
   "id": "3a085356-d1fb-42bc-ad2a-f311f7abfda6",
   "metadata": {
    "tags": []
   },
   "outputs": [],
   "source": [
    "T2 = 40000*u.K\n",
    "# BP Stellar temperature.\n",
    "R2 = 20*u.R_sun\n",
    "# BP Stellar radius.\n",
    "\n",
    "rs = np.linspace(1, 40, 500)*u.pc\n",
    "# BP Defining space to calculate ionization fraction in parsecs as Stromgren sphere is ~20 pc.\n",
    "   \n",
    "ionization2 = [ion_frac(r, R2, T2) for r in rs]"
   ]
  },
  {
   "cell_type": "code",
   "execution_count": 141,
   "id": "bf67a901-b0bb-420f-b4d3-27795fa57186",
   "metadata": {
    "tags": []
   },
   "outputs": [
    {
     "data": {
      "image/png": "[encoded data removed]",
      "text/plain": [
       "<Figure size 600x400 with 1 Axes>"
      ]
     },
     "metadata": {},
     "output_type": "display_data"
    }
   ],
   "source": [
    "fig, ax = plt.subplots(figsize = (6,4))\n",
    "ax.plot(rs, ionization1, label = 'Star 1')\n",
    "ax.plot(rs, ionization2, label = 'Star 2')\n",
    "ax.set_xlabel('Distance (pc)')\n",
    "ax.set_ylabel('x')\n",
    "ax.set_title('Ionization Fraction')\n",
    "ax.legend(loc = 'lower left')\n",
    "plt.tight_layout()\n",
    "plt.savefig('F:\\Github\\Coursework\\ASTR-589\\HW\\HW2\\HW2_3_a.png', dpi = 250)"
   ]
  },
  {
   "cell_type": "markdown",
   "id": "2ceb07fe-ec7f-4eaa-94d2-f9370a0cb6f5",
   "metadata": {},
   "source": [
    "From this we can calculate the Stromgren radius, which is essentially the middle of the sharp transition between fully ionized and fully unionized."
   ]
  },
  {
   "cell_type": "code",
   "execution_count": 142,
   "id": "8d32f074-b455-4645-a1b0-d8e45a0217b7",
   "metadata": {},
   "outputs": [
    {
     "name": "stdout",
     "output_type": "stream",
     "text": [
      "The Stromgren radius of the first star is 30.464929859719437 pc\n"
     ]
    }
   ],
   "source": [
    "ionization1, ionization2 = np.array(ionization1), np.array(ionization2)\n",
    "# BP Convert ionization into arrays.\n",
    "rad1_ind = np.where(ionization1 > 0.5)[0][-1]\n",
    "# BP Calculate last index where the ionization is above 0.5.\n",
    "stromgren1 = rs[rad1_ind]\n",
    "# BP Use this index to get the corresponding stromgren radius.\n",
    "\n",
    "print('The Stromgren radius of the first star is {}'.format(stromgren1))"
   ]
  },
  {
   "cell_type": "code",
   "execution_count": 143,
   "id": "45cb608d-ca81-44e9-8c41-840c9436e680",
   "metadata": {},
   "outputs": [
    {
     "name": "stdout",
     "output_type": "stream",
     "text": [
      "The Stromgren radius of the first star is 38.280561122244485 pc\n"
     ]
    }
   ],
   "source": [
    "rad2_ind = np.where(ionization2 > 0.5)[0][-1]\n",
    "# BP Calculate last index where the ionization is above 0.5.\n",
    "stromgren2 = rs[rad2_ind]\n",
    "# BP Use this index to get the corresponding stromgren radius.\n",
    "\n",
    "print('The Stromgren radius of the first star is {}'.format(stromgren2))"
   ]
  },
  {
   "cell_type": "markdown",
   "id": "663fe0e1-2fcf-462d-9a76-400b5a0488bb",
   "metadata": {},
   "source": [
    "# Part b\n",
    "## Calculate the number of ionizing photons per second from each star."
   ]
  },
  {
   "cell_type": "markdown",
   "id": "dd9c7741-41b3-4aab-a6bc-501e5f3dac42",
   "metadata": {},
   "source": [
    "The total ionizing flux for each star, after converting from the provided equation, is simply\n",
    "$$\n",
    "S_{uv} = 4\\pi^2 R^2 \\left(\\frac{k_BT}{h}\\right)^3 \\int_{v_0}^{\\infty} \\frac{u^2}{e^u-1}~du\n",
    "$$"
   ]
  },
  {
   "cell_type": "code",
   "execution_count": 65,
   "id": "94dd719d-0246-48cb-9719-818f976b28e3",
   "metadata": {
    "tags": []
   },
   "outputs": [],
   "source": [
    "l0 = 912*u.AA\n",
    "# BP Setting lower integration limit."
   ]
  },
  {
   "cell_type": "code",
   "execution_count": 66,
   "id": "c78804bd-9cf5-4d19-b866-5d7a2a8cd00e",
   "metadata": {
    "tags": []
   },
   "outputs": [
    {
     "name": "stdout",
     "output_type": "stream",
     "text": [
      "2.744261869852677e+49 1 / s\n"
     ]
    },
    {
     "name": "stderr",
     "output_type": "stream",
     "text": [
      "/tmp/ipykernel_70148/852860727.py:13: RuntimeWarning: overflow encountered in exp\n",
      "  return u**2 / (np.exp(u) - 1)\n"
     ]
    }
   ],
   "source": [
    "T1 = 45000*u.K\n",
    "R1 = 11*u.R_sun\n",
    "# BP Defining star 1 properties.\n",
    "\n",
    "S_uv1 = 8 * np.pi**2 * R1**2 / c**2 * (k_B * T1 / h)**3 * integ(l0, T1)\n",
    "# BP Calculating numer of ionizing photons from star 1.\n",
    "\n",
    "print(S_uv1.cgs)"
   ]
  },
  {
   "cell_type": "code",
   "execution_count": 67,
   "id": "0b2edea3-49b1-4e6a-8f26-8ffa15eaee21",
   "metadata": {
    "tags": []
   },
   "outputs": [
    {
     "name": "stdout",
     "output_type": "stream",
     "text": [
      "4.890534991868073e+49 1 / s\n"
     ]
    },
    {
     "name": "stderr",
     "output_type": "stream",
     "text": [
      "/tmp/ipykernel_70148/852860727.py:13: RuntimeWarning: overflow encountered in exp\n",
      "  return u**2 / (np.exp(u) - 1)\n"
     ]
    }
   ],
   "source": [
    "T2 = 40000*u.K\n",
    "R2 = 20*u.R_sun\n",
    "# BP Defining star 2 properties.\n",
    "\n",
    "S_uv2 = 8 * np.pi**2 * R2**2 / c**2 * (k_B * T2 / h)**3 * integ(l0, T2)\n",
    "# BP Calculating number of ionizing photons from star 2.\n",
    "\n",
    "print(S_uv2.cgs)"
   ]
  },
  {
   "cell_type": "markdown",
   "id": "035ad909-960c-463f-b867-c191b416c12a",
   "metadata": {},
   "source": [
    "# Part c\n",
    "## Calculate the stromgren radius for each star.\n",
    "The analytical stromgren radius is given simply by\n",
    "$$\n",
    "R_s = \\left( \\frac{3 S_{uv}}{4\\pi\\alpha(T)n_H^2} \\right)^{1/3}\n",
    "$$\n",
    "Using the results from the previous section,"
   ]
  },
  {
   "cell_type": "code",
   "execution_count": 62,
   "id": "a2e87c53-19bf-4c92-9ca7-e41667b500ba",
   "metadata": {
    "tags": []
   },
   "outputs": [],
   "source": [
    "aT = 2.59e-13*u.cm**3/u.s\n",
    "nH = 10/(u.cm**3)\n",
    "# BP Define constants used for stromgren radius calculation."
   ]
  },
  {
   "cell_type": "code",
   "execution_count": 63,
   "id": "90d0ec4a-dddb-4f6b-9904-9e31739bc795",
   "metadata": {
    "tags": []
   },
   "outputs": [
    {
     "name": "stdout",
     "output_type": "stream",
     "text": [
      "The Stromgren radius of the first star is 20.49565714159451 pc\n"
     ]
    }
   ],
   "source": [
    "Rs1 = (3 * S_uv1 / (4 * np.pi * aT * nH**2) )**(1/3)\n",
    "# BP Calculating stromgren radius for the first star.\n",
    "\n",
    "print('The Stromgren radius of the first star is {}'.format(Rs1.to(u.pc)))"
   ]
  },
  {
   "cell_type": "code",
   "execution_count": 64,
   "id": "c513cb68-8a0b-4e0b-ab88-8f4cc16dd127",
   "metadata": {
    "tags": []
   },
   "outputs": [
    {
     "name": "stdout",
     "output_type": "stream",
     "text": [
      "The Stromgren radius of the second star is 24.848801903405054 pc\n"
     ]
    }
   ],
   "source": [
    "Rs2 = (3 * S_uv2 / (4 * np.pi * aT * nH**2) )**(1/3)\n",
    "# BP Calculating stromgren radius for the second star.\n",
    "\n",
    "print('The Stromgren radius of the second star is {}'.format(Rs2.to(u.pc)))"
   ]
  }
 ],
 "metadata": {
  "kernelspec": {
   "display_name": "Python 3 (ipykernel)",
   "language": "python",
   "name": "python3"
  },
  "language_info": {
   "codemirror_mode": {
    "name": "ipython",
    "version": 3
   },
   "file_extension": ".py",
   "mimetype": "text/x-python",
   "name": "python",
   "nbconvert_exporter": "python",
   "pygments_lexer": "ipython3",
   "version": "3.9.12"
  }
 },
 "nbformat": 4,
 "nbformat_minor": 5
}
