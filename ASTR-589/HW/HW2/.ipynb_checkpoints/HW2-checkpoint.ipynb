{
 "cells": [
  {
   "cell_type": "markdown",
   "id": "e82c520b-a951-40dc-983f-011b998b366b",
   "metadata": {},
   "source": [
    "# ASTR-589 HW2\n",
    "## Numerically solve the balance equation to calculate the Stromgren radius."
   ]
  },
  {
   "cell_type": "markdown",
   "id": "ec986315-0de9-4844-86d1-655bad21e07d",
   "metadata": {},
   "source": [
    "We showed in the homework that the ionization fraction inside an HII region is given by the equation\n",
    "\n",
    "$$\n",
    "0 = \\frac{2(1-x) R^2 \\sigma_0 \\nu_0^3 \\pi^2 e^{-(1-x) n_H \\sigma_0 r}}{n_H \\alpha(T) r^2 c^2} \\int_{u_0}^{\\infty} \\frac{1}{u} \\frac{1}{e^u-1}~du - x^2\n",
    "$$\n",
    "\n",
    "We are given that $n_H = 10~\\rm{cm}^{-3}$, $\\sigma_0 = 6.3\\times 10^{-18}~\\rm{cm}^2$, and that $\\alpha(T=10000\\rm{K}) = 2.59\\times10^{-13}~\\rm{cm}^3~\\rm{s}^{-1}$ inside the nebula."
   ]
  },
  {
   "cell_type": "code",
   "execution_count": 1,
   "id": "a202dd91-2c79-411b-af37-71cf67cddc93",
   "metadata": {
    "tags": []
   },
   "outputs": [],
   "source": [
    "import numpy as np\n",
    "from scipy.integrate import quad\n",
    "from scipy.optimize import fsolve, root, minimize, least_squares\n",
    "import astropy.units as u\n",
    "import scipy\n",
    "from astropy.constants import c, h, k_B\n",
    "import matplotlib.pyplot as plt"
   ]
  },
  {
   "cell_type": "markdown",
   "id": "bffe3353-c2b1-4d16-9818-701f237dafc5",
   "metadata": {},
   "source": [
    "First, let us define the entire function as a product of three separate functions."
   ]
  },
  {
   "cell_type": "code",
   "execution_count": 2,
   "id": "7a600d93-a884-456a-a925-df281bf19f75",
   "metadata": {
    "tags": []
   },
   "outputs": [],
   "source": [
    "def unsolved(x, r, R, T, nH, s0, aT, l0):\n",
    "    '''\n",
    "    Function define the ionization fraction around a hot star in an HI region. Must be solved numerically.\n",
    "    '''\n",
    "    depend_val = depend(x, r, nH, s0)\n",
    "    # BP Calculating all x-dependent terms.\n",
    "    coeff_val = const(r, R, T, nH, s0, aT, l0)\n",
    "    # BP Calculating all constant coefficient terms.\n",
    "    integ_val = integ(l0, T)\n",
    "    # BP Numerically integrating the integrand.\n",
    "    \n",
    "    return depend_val * coeff_val * integ_val - x**2"
   ]
  },
  {
   "cell_type": "markdown",
   "id": "eb619c9b-ab0a-4351-994c-6f3d1101d632",
   "metadata": {},
   "source": [
    "Next, lets define the first of the three functions"
   ]
  },
  {
   "cell_type": "code",
   "execution_count": 3,
   "id": "02dc1a59-a3d7-4a1f-8c35-718ba90288b8",
   "metadata": {
    "tags": []
   },
   "outputs": [],
   "source": [
    "def depend(x, r, nH, s0):\n",
    "    '''\n",
    "    Function to define all x-dependent terms in the ionization fraction equation.\n",
    "    '''\n",
    "    expo = np.exp(-(1-x)*(nH * s0 * r).cgs)\n",
    "    # BP Calculating exponential part.\n",
    "    \n",
    "    return ((1-x) * expo).cgs"
   ]
  },
  {
   "cell_type": "code",
   "execution_count": 4,
   "id": "05e6c65b-0c9b-4176-9a83-75d87b9440f8",
   "metadata": {
    "tags": []
   },
   "outputs": [],
   "source": [
    "def const(r, R, T, nH, s0, aT, l0):\n",
    "    '''\n",
    "    Function to calculate the constant coefficient terms in the ionization fraction equation.\n",
    "    '''\n",
    "    v0 = l0.to(u.Hz, equivalencies=u.spectral())\n",
    "    # BP Calculating ionization frequency limit.\n",
    "    numer = 2 * np.pi**2 * R**2 * s0 * v0**3\n",
    "    # BP Calculating numerator.\n",
    "    denom = c**2 * r**2 * nH * aT\n",
    "    # BP Calculating denominator.\n",
    "    \n",
    "    return (numer / denom).cgs"
   ]
  },
  {
   "cell_type": "code",
   "execution_count": 101,
   "id": "c0f95061-0425-43f3-a1b5-fb5bd1ad063a",
   "metadata": {
    "tags": []
   },
   "outputs": [],
   "source": [
    "def integ(l0, T):\n",
    "    '''\n",
    "    Function to numerically integrate the integral in the ionization fraction equation.\n",
    "    '''\n",
    "    v0 = l0.to(u.Hz, equivalencies=u.spectral())\n",
    "    # BP Converting the ionization wavelength into ionization frequency.\n",
    "    u0 = h * v0 / (k_B * T)\n",
    "    u0 = u0.cgs\n",
    "    # BP Calculate the lower integration limit.\n",
    "    \n",
    "    def integrand(u):\n",
    "    # BP Defining inner integrand to numerically solve.\n",
    "        return 1 /( u * ( np.exp(u) - 1))\n",
    "    \n",
    "    I, _ = quad(integrand, u0, np.inf)\n",
    "    # BP Numerically integrate from u0 to infinity.\n",
    "    \n",
    "    return I"
   ]
  },
  {
   "cell_type": "markdown",
   "id": "e839f8fa-07d0-4ae0-ab06-afc928031341",
   "metadata": {},
   "source": [
    "Now we need to actually solve the defined equation, which we can do by using a root solving tool."
   ]
  },
  {
   "cell_type": "code",
   "execution_count": 97,
   "id": "721e7f6e-87ec-434c-9293-7260a6486d87",
   "metadata": {
    "tags": []
   },
   "outputs": [],
   "source": [
    "def ion_frac(r, R, T, nH=10/(u.cm**3), s0=6.3e-18*u.cm**2, aT=2.59e-13*u.cm**3/u.s, l0=912*u.AA):\n",
    "    '''\n",
    "    Function to calculate the ionization fraction at a given radius from a hot ionizing star. Can be looped over a grid of radii.\n",
    "    '''\n",
    "    func = lambda x: unsolved(x, r, R, T, nH, s0, aT, l0).cgs\n",
    "    # BP Defining function will all proper variables.\n",
    "        \n",
    "    zero = root(func, 1).x\n",
    "    # zero = fsolve(func, [1], xtol = 1e-10)\n",
    "    # zero = least_squares(func, [1]).x\n",
    "    # Solving for where the function equals 0.\n",
    "    \n",
    "    #p = poly(x, r, R, T, nH, s0, aT, l0)\n",
    "    #zero = np.roots(p)\n",
    "    \n",
    "    return zero"
   ]
  },
  {
   "cell_type": "markdown",
   "id": "5f51d8a7-a7ea-47e2-ae45-15210a765c59",
   "metadata": {},
   "source": [
    "We can now calculate the ionization fraction over the entire nebula."
   ]
  },
  {
   "cell_type": "markdown",
   "id": "c0886a68-f993-4d48-98bb-9bc11fd6c079",
   "metadata": {},
   "source": [
    "## First Star\n",
    "$T = 45000~\\rm{K}$\n",
    "\n",
    "$R = 11~R_\\odot$"
   ]
  },
  {
   "cell_type": "code",
   "execution_count": 98,
   "id": "d048aded-c225-4bbf-93e3-d3e671056137",
   "metadata": {
    "tags": []
   },
   "outputs": [
    {
     "name": "stderr",
     "output_type": "stream",
     "text": [
      "C:\\Users\\Brock\\AppData\\Local\\Temp\\ipykernel_22728\\4095845032.py:13: RuntimeWarning: overflow encountered in exp\n",
      "  return 1 /( u* ( np.exp(u) - 1))\n"
     ]
    }
   ],
   "source": [
    "T = 45000*u.K\n",
    "# BP Stellar temperature.\n",
    "R = 11*u.R_sun\n",
    "# BP Stellar radius.\n",
    "\n",
    "rs = np.linspace(1, 40, 50)*u.pc\n",
    "# BP Defining space to calculate ionization fraction in parsecs as Stromgren sphere is ~20 pc.\n",
    "   \n",
    "ionization = [ion_frac(r, R, T) for r in rs]"
   ]
  },
  {
   "cell_type": "code",
   "execution_count": 99,
   "id": "93bb96cb-a3e7-412c-9dd2-5716d6c675b1",
   "metadata": {
    "tags": []
   },
   "outputs": [
    {
     "data": {
      "text/plain": [
       "(-0.1, 1.1)"
      ]
     },
     "execution_count": 99,
     "metadata": {},
     "output_type": "execute_result"
    },
    {
     "data": {
      "image/png": "[encoded data removed]",
      "text/plain": [
       "<Figure size 640x480 with 1 Axes>"
      ]
     },
     "metadata": {},
     "output_type": "display_data"
    }
   ],
   "source": [
    "_ = plt.plot(rs, ionization)\n",
    "plt.xlabel('Distance (pc)')\n",
    "plt.ylabel('x')\n",
    "plt.title('Ionization Fraction')\n",
    "plt.xscale('log')\n",
    "plt.ylim(-0.1,1.1)"
   ]
  },
  {
   "cell_type": "code",
   "execution_count": 100,
   "id": "76224333-ae63-4c11-bdc2-bd1a1205af67",
   "metadata": {
    "tags": []
   },
   "outputs": [
    {
     "data": {
      "text/plain": [
       "(-0.1, 1.1)"
      ]
     },
     "execution_count": 100,
     "metadata": {},
     "output_type": "execute_result"
    },
    {
     "data": {
      "image/png": "[encoded data removed]",
      "text/plain": [
       "<Figure size 640x480 with 1 Axes>"
      ]
     },
     "metadata": {},
     "output_type": "display_data"
    }
   ],
   "source": [
    "_ = plt.plot(rs, ionization)\n",
    "plt.xlabel('Distance (pc)')\n",
    "plt.ylabel('x')\n",
    "plt.title('Ionization Fraction')\n",
    "plt.ylim(-0.1,1.1)"
   ]
  },
  {
   "cell_type": "code",
   "execution_count": null,
   "id": "11528cc3-f5e3-44ae-a04e-1edc2d5cd48f",
   "metadata": {},
   "outputs": [],
   "source": [
    "same value two different solvers\n",
    "similar value third solver"
   ]
  },
  {
   "cell_type": "markdown",
   "id": "dacafcdb-9ca9-48df-b4df-b291683cb8b0",
   "metadata": {},
   "source": [
    "# Star 2"
   ]
  },
  {
   "cell_type": "code",
   "execution_count": null,
   "id": "6faecc1d-bdc0-41c5-8c70-4ab8d90b126f",
   "metadata": {
    "tags": []
   },
   "outputs": [],
   "source": [
    "x = np.linspace(39.7, 40, 1000)\n",
    "\n",
    "test = rs\n",
    "\n",
    "for r in test:\n",
    "    test = unsolved(x, r, R, T, nH=10/(u.cm**3), s0=6.3e-18*u.cm**2, aT=2.59e-13*u.cm**3/u.s, l0=912*u.AA)\n",
    "    plt.plot(x, test)\n",
    "plt.xlabel('x')\n",
    "plt.ylabel('RHS')"
   ]
  },
  {
   "cell_type": "markdown",
   "id": "663fe0e1-2fcf-462d-9a76-400b5a0488bb",
   "metadata": {},
   "source": [
    "# Part b\n",
    "## Calculate the number of ionizing photons per second from each star."
   ]
  },
  {
   "cell_type": "markdown",
   "id": "dd9c7741-41b3-4aab-a6bc-501e5f3dac42",
   "metadata": {},
   "source": [
    "The total ionizing flux for each star, after converting from the provided equation, is simply\n",
    "$$\n",
    "S_{uv} = 4\\pi^2 R^2 \\left(\\frac{k_BT}{h}\\right)^3 \\int_{v_0}^{\\infty} \\frac{u^2}{e^u-1}~du\n",
    "$$"
   ]
  },
  {
   "cell_type": "code",
   "execution_count": 65,
   "id": "94dd719d-0246-48cb-9719-818f976b28e3",
   "metadata": {
    "tags": []
   },
   "outputs": [],
   "source": [
    "l0 = 912*u.AA\n",
    "# BP Setting lower integration limit."
   ]
  },
  {
   "cell_type": "code",
   "execution_count": 66,
   "id": "c78804bd-9cf5-4d19-b866-5d7a2a8cd00e",
   "metadata": {
    "tags": []
   },
   "outputs": [
    {
     "name": "stdout",
     "output_type": "stream",
     "text": [
      "2.744261869852677e+49 1 / s\n"
     ]
    },
    {
     "name": "stderr",
     "output_type": "stream",
     "text": [
      "/tmp/ipykernel_70148/852860727.py:13: RuntimeWarning: overflow encountered in exp\n",
      "  return u**2 / (np.exp(u) - 1)\n"
     ]
    }
   ],
   "source": [
    "T1 = 45000*u.K\n",
    "R1 = 11*u.R_sun\n",
    "# BP Defining star 1 properties.\n",
    "\n",
    "S_uv1 = 8 * np.pi**2 * R1**2 / c**2 * (k_B * T1 / h)**3 * integ(l0, T1)\n",
    "# BP Calculating numer of ionizing photons from star 1.\n",
    "\n",
    "print(S_uv1.cgs)"
   ]
  },
  {
   "cell_type": "code",
   "execution_count": 67,
   "id": "0b2edea3-49b1-4e6a-8f26-8ffa15eaee21",
   "metadata": {
    "tags": []
   },
   "outputs": [
    {
     "name": "stdout",
     "output_type": "stream",
     "text": [
      "4.890534991868073e+49 1 / s\n"
     ]
    },
    {
     "name": "stderr",
     "output_type": "stream",
     "text": [
      "/tmp/ipykernel_70148/852860727.py:13: RuntimeWarning: overflow encountered in exp\n",
      "  return u**2 / (np.exp(u) - 1)\n"
     ]
    }
   ],
   "source": [
    "T2 = 40000*u.K\n",
    "R2 = 20*u.R_sun\n",
    "# BP Defining star 2 properties.\n",
    "\n",
    "S_uv2 = 8 * np.pi**2 * R2**2 / c**2 * (k_B * T2 / h)**3 * integ(l0, T2)\n",
    "# BP Calculating number of ionizing photons from star 2.\n",
    "\n",
    "print(S_uv2.cgs)"
   ]
  },
  {
   "cell_type": "markdown",
   "id": "035ad909-960c-463f-b867-c191b416c12a",
   "metadata": {},
   "source": [
    "# Part c\n",
    "## Calculate the stromgren radius for each star.\n",
    "The analytical stromgren radius is given simply by\n",
    "$$\n",
    "R_s = \\left( \\frac{3 S_{uv}}{4\\pi\\alpha(T)n_H^2} \\right)^{1/3}\n",
    "$$\n",
    "Using the results from the previous section,"
   ]
  },
  {
   "cell_type": "code",
   "execution_count": 62,
   "id": "a2e87c53-19bf-4c92-9ca7-e41667b500ba",
   "metadata": {
    "tags": []
   },
   "outputs": [],
   "source": [
    "aT = 2.59e-13*u.cm**3/u.s\n",
    "nH = 10/(u.cm**3)\n",
    "# BP Define constants used for stromgren radius calculation."
   ]
  },
  {
   "cell_type": "code",
   "execution_count": 63,
   "id": "90d0ec4a-dddb-4f6b-9904-9e31739bc795",
   "metadata": {
    "tags": []
   },
   "outputs": [
    {
     "name": "stdout",
     "output_type": "stream",
     "text": [
      "The Stromgren radius of the first star is 20.49565714159451 pc\n"
     ]
    }
   ],
   "source": [
    "Rs1 = (3 * S_uv1 / (4 * np.pi * aT * nH**2) )**(1/3)\n",
    "# BP Calculating stromgren radius for the first star.\n",
    "\n",
    "print('The Stromgren radius of the first star is {}'.format(Rs1.to(u.pc)))"
   ]
  },
  {
   "cell_type": "code",
   "execution_count": 64,
   "id": "c513cb68-8a0b-4e0b-ab88-8f4cc16dd127",
   "metadata": {
    "tags": []
   },
   "outputs": [
    {
     "name": "stdout",
     "output_type": "stream",
     "text": [
      "The Stromgren radius of the second star is 24.848801903405054 pc\n"
     ]
    }
   ],
   "source": [
    "Rs2 = (3 * S_uv2 / (4 * np.pi * aT * nH**2) )**(1/3)\n",
    "# BP Calculating stromgren radius for the second star.\n",
    "\n",
    "print('The Stromgren radius of the second star is {}'.format(Rs2.to(u.pc)))"
   ]
  }
 ],
 "metadata": {
  "kernelspec": {
   "display_name": "Python 3 (ipykernel)",
   "language": "python",
   "name": "python3"
  },
  "language_info": {
   "codemirror_mode": {
    "name": "ipython",
    "version": 3
   },
   "file_extension": ".py",
   "mimetype": "text/x-python",
   "name": "python",
   "nbconvert_exporter": "python",
   "pygments_lexer": "ipython3",
   "version": "3.11.4"
  }
 },
 "nbformat": 4,
 "nbformat_minor": 5
}
