{
 "cells": [
  {
   "cell_type": "markdown",
   "id": "85933843-e390-48b2-8cc8-71acb3ced4d1",
   "metadata": {},
   "source": [
    "$$\\frac{c^{5/4}}{49} \\left(\\frac{54432 m_p}{GM\\sigma \\sigma_T}\\right)^{1/4}$$"
   ]
  },
  {
   "cell_type": "code",
   "execution_count": null,
   "id": "959821f8-86cf-4145-9f8f-5f57f2345abf",
   "metadata": {
    "tags": []
   },
   "outputs": [],
   "source": [
    "import numpy as np\n",
    "from astropy.constants import c, sigma_sb, sigma_T, G, M_sun, m_p, b_wien, k_B\n",
    "import astropy.units as u"
   ]
  },
  {
   "cell_type": "markdown",
   "id": "a4502c1c-07ad-419f-aea8-eecc7ec1c440",
   "metadata": {},
   "source": [
    "$$\\frac{1}{5} \\frac{\\mu m_p}{k} \\frac{GM}{R}$$"
   ]
  },
  {
   "cell_type": "code",
   "execution_count": null,
   "id": "83f49a1c-02be-48ec-9245-99c70f873d5d",
   "metadata": {
    "tags": []
   },
   "outputs": [],
   "source": [
    "temp = m_p * G * u.M_sun / (5 * k_B * u.R_sun)\n",
    "print(temp.to(u.K))"
   ]
  },
  {
   "cell_type": "code",
   "execution_count": null,
   "id": "b39dd44d-624c-45fb-9e30-8bb00a9972bf",
   "metadata": {
    "tags": []
   },
   "outputs": [],
   "source": [
    "def calc_temp(M):\n",
    "    T_max1 = c**(5/4) / 49\n",
    "    T_max2 = 27216 * m_p / (5* G * M * sigma_sb * sigma_T)\n",
    "    T_max = T_max1 * T_max2**(1/4)\n",
    "    \n",
    "    l_max = b_wien / T_max\n",
    "\n",
    "    return T_max.to(u.K), l_max.to(u.nm)"
   ]
  },
  {
   "cell_type": "code",
   "execution_count": null,
   "id": "60e00567-906d-4708-8601-2da3d04a2c87",
   "metadata": {
    "tags": []
   },
   "outputs": [],
   "source": [
    "M = 10* u.M_sun\n",
    "T_max, l_max = calc_temp(M)\n",
    "print(T_max, l_max)"
   ]
  },
  {
   "cell_type": "code",
   "execution_count": null,
   "id": "5d55b448-c3a3-4f40-abc0-56eb1f288e08",
   "metadata": {
    "tags": []
   },
   "outputs": [],
   "source": [
    "M = 10**9 * u.M_sun\n",
    "T_max, l_max = calc_temp(M)\n",
    "print(T_max, l_max)"
   ]
  },
  {
   "cell_type": "code",
   "execution_count": null,
   "id": "036bf63d-ec07-4b96-bb0d-730292e8384c",
   "metadata": {},
   "outputs": [],
   "source": []
  },
  {
   "cell_type": "code",
   "execution_count": null,
   "id": "a3ce5e4a-d88d-4795-afcc-18e08e6ee4ac",
   "metadata": {},
   "outputs": [],
   "source": [
    "pp = 14*u.s / (20**2)"
   ]
  },
  {
   "cell_type": "code",
   "execution_count": null,
   "id": "aa182aec-df11-466c-b9bb-6c9850159843",
   "metadata": {},
   "outputs": [],
   "source": []
  }
 ],
 "metadata": {
  "kernelspec": {
   "display_name": "Python 3 (ipykernel)",
   "language": "python",
   "name": "python3"
  },
  "language_info": {
   "codemirror_mode": {
    "name": "ipython",
    "version": 3
   },
   "file_extension": ".py",
   "mimetype": "text/x-python",
   "name": "python",
   "nbconvert_exporter": "python",
   "pygments_lexer": "ipython3",
   "version": "3.11.4"
  }
 },
 "nbformat": 4,
 "nbformat_minor": 5
}
